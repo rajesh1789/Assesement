{
  "cells": [
    {
      "cell_type": "markdown",
      "metadata": {
        "id": "view-in-github",
        "colab_type": "text"
      },
      "source": [
        "<a href=\"https://colab.research.google.com/github/rajesh1789/Assesement/blob/main/Welcome_To_Colab1000main.ipynb\" target=\"_parent\"><img src=\"https://colab.research.google.com/assets/colab-badge.svg\" alt=\"Open In Colab\"/></a>"
      ]
    },
    {
      "cell_type": "code",
      "source": [
        "import numpy as np\n",
        "import pandas as pd"
      ],
      "metadata": {
        "id": "86hqudhiSaSL"
      },
      "execution_count": 116,
      "outputs": []
    },
    {
      "cell_type": "code",
      "source": [
        "data=pd.read_csv(\"/content/US healthcare data-2 12 2020.csv\")"
      ],
      "metadata": {
        "id": "08ZG5l6VSaOp"
      },
      "execution_count": 117,
      "outputs": []
    },
    {
      "cell_type": "code",
      "source": [
        "data.shape"
      ],
      "metadata": {
        "colab": {
          "base_uri": "https://localhost:8080/"
        },
        "id": "zEXnOqqNSaMt",
        "outputId": "6d69f8ec-cdb9-41f2-fb56-8e70080375e6"
      },
      "execution_count": 118,
      "outputs": [
        {
          "output_type": "execute_result",
          "data": {
            "text/plain": [
              "(51678, 29)"
            ]
          },
          "metadata": {},
          "execution_count": 118
        }
      ]
    },
    {
      "cell_type": "code",
      "source": [
        "data.head()"
      ],
      "metadata": {
        "colab": {
          "base_uri": "https://localhost:8080/",
          "height": 342
        },
        "id": "7FyWX8kySaKU",
        "outputId": "cbb02a99-ad2c-42cf-fdf4-4f8a2dcc80fa"
      },
      "execution_count": 119,
      "outputs": [
        {
          "output_type": "execute_result",
          "data": {
            "text/plain": [
              "              race  gender      age admission_type_id  \\\n",
              "0        Caucasian  Female   [0-30)            Others   \n",
              "1        Caucasian  Female   [0-30)         Emergency   \n",
              "2  AfricanAmerican  Female   [0-30)         Emergency   \n",
              "3        Caucasian    Male  [30-40)         Emergency   \n",
              "4        Caucasian    Male  [40-50)         Emergency   \n",
              "\n",
              "  discharge_disposition_id admission_source_id  time_in_hospital  \\\n",
              "0                   Others            Referral         -1.632460   \n",
              "1       Discharged to home      Emergency Room         -0.271144   \n",
              "2       Discharged to home      Emergency Room         -0.825587   \n",
              "3       Discharged to home      Emergency Room         -0.825587   \n",
              "4       Discharged to home      Emergency Room         -1.632460   \n",
              "\n",
              "   num_lab_procedures  num_medications  number_outpatient  ...  repaglinide  \\\n",
              "0           -0.108475        -3.304858          -0.443669  ...           No   \n",
              "1            0.808522         0.408817          -0.443669  ...           No   \n",
              "2           -1.629615        -0.237590           2.278833  ...           No   \n",
              "3            0.044197         0.167145          -0.443669  ...           No   \n",
              "4            0.400694        -1.082723          -0.443669  ...           No   \n",
              "\n",
              "   glipizide insulin change diabetesMed  readmitted age_derived count_Steady  \\\n",
              "0         No      No     No          No          NO   -2.390913    -0.964053   \n",
              "1         No      Up     Ch         Yes          NO   -2.390913    -0.964053   \n",
              "2     Steady      No     No         Yes          NO   -2.390913     0.835716   \n",
              "3         No      Up     Ch         Yes          NO   -1.716517    -0.964053   \n",
              "4     Steady  Steady     Ch         Yes          NO   -1.267255     1.525004   \n",
              "\n",
              "  count_Down  count_Up  \n",
              "0  -0.386999 -0.382050  \n",
              "1  -0.386999  2.617432  \n",
              "2  -0.386999 -0.382050  \n",
              "3  -0.386999  2.617432  \n",
              "4  -0.386999 -0.382050  \n",
              "\n",
              "[5 rows x 29 columns]"
            ],
            "text/html": [
              "\n",
              "  <div id=\"df-54bdcb8b-0ea2-401e-a916-61556434f750\" class=\"colab-df-container\">\n",
              "    <div>\n",
              "<style scoped>\n",
              "    .dataframe tbody tr th:only-of-type {\n",
              "        vertical-align: middle;\n",
              "    }\n",
              "\n",
              "    .dataframe tbody tr th {\n",
              "        vertical-align: top;\n",
              "    }\n",
              "\n",
              "    .dataframe thead th {\n",
              "        text-align: right;\n",
              "    }\n",
              "</style>\n",
              "<table border=\"1\" class=\"dataframe\">\n",
              "  <thead>\n",
              "    <tr style=\"text-align: right;\">\n",
              "      <th></th>\n",
              "      <th>race</th>\n",
              "      <th>gender</th>\n",
              "      <th>age</th>\n",
              "      <th>admission_type_id</th>\n",
              "      <th>discharge_disposition_id</th>\n",
              "      <th>admission_source_id</th>\n",
              "      <th>time_in_hospital</th>\n",
              "      <th>num_lab_procedures</th>\n",
              "      <th>num_medications</th>\n",
              "      <th>number_outpatient</th>\n",
              "      <th>...</th>\n",
              "      <th>repaglinide</th>\n",
              "      <th>glipizide</th>\n",
              "      <th>insulin</th>\n",
              "      <th>change</th>\n",
              "      <th>diabetesMed</th>\n",
              "      <th>readmitted</th>\n",
              "      <th>age_derived</th>\n",
              "      <th>count_Steady</th>\n",
              "      <th>count_Down</th>\n",
              "      <th>count_Up</th>\n",
              "    </tr>\n",
              "  </thead>\n",
              "  <tbody>\n",
              "    <tr>\n",
              "      <th>0</th>\n",
              "      <td>Caucasian</td>\n",
              "      <td>Female</td>\n",
              "      <td>[0-30)</td>\n",
              "      <td>Others</td>\n",
              "      <td>Others</td>\n",
              "      <td>Referral</td>\n",
              "      <td>-1.632460</td>\n",
              "      <td>-0.108475</td>\n",
              "      <td>-3.304858</td>\n",
              "      <td>-0.443669</td>\n",
              "      <td>...</td>\n",
              "      <td>No</td>\n",
              "      <td>No</td>\n",
              "      <td>No</td>\n",
              "      <td>No</td>\n",
              "      <td>No</td>\n",
              "      <td>NO</td>\n",
              "      <td>-2.390913</td>\n",
              "      <td>-0.964053</td>\n",
              "      <td>-0.386999</td>\n",
              "      <td>-0.382050</td>\n",
              "    </tr>\n",
              "    <tr>\n",
              "      <th>1</th>\n",
              "      <td>Caucasian</td>\n",
              "      <td>Female</td>\n",
              "      <td>[0-30)</td>\n",
              "      <td>Emergency</td>\n",
              "      <td>Discharged to home</td>\n",
              "      <td>Emergency Room</td>\n",
              "      <td>-0.271144</td>\n",
              "      <td>0.808522</td>\n",
              "      <td>0.408817</td>\n",
              "      <td>-0.443669</td>\n",
              "      <td>...</td>\n",
              "      <td>No</td>\n",
              "      <td>No</td>\n",
              "      <td>Up</td>\n",
              "      <td>Ch</td>\n",
              "      <td>Yes</td>\n",
              "      <td>NO</td>\n",
              "      <td>-2.390913</td>\n",
              "      <td>-0.964053</td>\n",
              "      <td>-0.386999</td>\n",
              "      <td>2.617432</td>\n",
              "    </tr>\n",
              "    <tr>\n",
              "      <th>2</th>\n",
              "      <td>AfricanAmerican</td>\n",
              "      <td>Female</td>\n",
              "      <td>[0-30)</td>\n",
              "      <td>Emergency</td>\n",
              "      <td>Discharged to home</td>\n",
              "      <td>Emergency Room</td>\n",
              "      <td>-0.825587</td>\n",
              "      <td>-1.629615</td>\n",
              "      <td>-0.237590</td>\n",
              "      <td>2.278833</td>\n",
              "      <td>...</td>\n",
              "      <td>No</td>\n",
              "      <td>Steady</td>\n",
              "      <td>No</td>\n",
              "      <td>No</td>\n",
              "      <td>Yes</td>\n",
              "      <td>NO</td>\n",
              "      <td>-2.390913</td>\n",
              "      <td>0.835716</td>\n",
              "      <td>-0.386999</td>\n",
              "      <td>-0.382050</td>\n",
              "    </tr>\n",
              "    <tr>\n",
              "      <th>3</th>\n",
              "      <td>Caucasian</td>\n",
              "      <td>Male</td>\n",
              "      <td>[30-40)</td>\n",
              "      <td>Emergency</td>\n",
              "      <td>Discharged to home</td>\n",
              "      <td>Emergency Room</td>\n",
              "      <td>-0.825587</td>\n",
              "      <td>0.044197</td>\n",
              "      <td>0.167145</td>\n",
              "      <td>-0.443669</td>\n",
              "      <td>...</td>\n",
              "      <td>No</td>\n",
              "      <td>No</td>\n",
              "      <td>Up</td>\n",
              "      <td>Ch</td>\n",
              "      <td>Yes</td>\n",
              "      <td>NO</td>\n",
              "      <td>-1.716517</td>\n",
              "      <td>-0.964053</td>\n",
              "      <td>-0.386999</td>\n",
              "      <td>2.617432</td>\n",
              "    </tr>\n",
              "    <tr>\n",
              "      <th>4</th>\n",
              "      <td>Caucasian</td>\n",
              "      <td>Male</td>\n",
              "      <td>[40-50)</td>\n",
              "      <td>Emergency</td>\n",
              "      <td>Discharged to home</td>\n",
              "      <td>Emergency Room</td>\n",
              "      <td>-1.632460</td>\n",
              "      <td>0.400694</td>\n",
              "      <td>-1.082723</td>\n",
              "      <td>-0.443669</td>\n",
              "      <td>...</td>\n",
              "      <td>No</td>\n",
              "      <td>Steady</td>\n",
              "      <td>Steady</td>\n",
              "      <td>Ch</td>\n",
              "      <td>Yes</td>\n",
              "      <td>NO</td>\n",
              "      <td>-1.267255</td>\n",
              "      <td>1.525004</td>\n",
              "      <td>-0.386999</td>\n",
              "      <td>-0.382050</td>\n",
              "    </tr>\n",
              "  </tbody>\n",
              "</table>\n",
              "<p>5 rows × 29 columns</p>\n",
              "</div>\n",
              "    <div class=\"colab-df-buttons\">\n",
              "\n",
              "  <div class=\"colab-df-container\">\n",
              "    <button class=\"colab-df-convert\" onclick=\"convertToInteractive('df-54bdcb8b-0ea2-401e-a916-61556434f750')\"\n",
              "            title=\"Convert this dataframe to an interactive table.\"\n",
              "            style=\"display:none;\">\n",
              "\n",
              "  <svg xmlns=\"http://www.w3.org/2000/svg\" height=\"24px\" viewBox=\"0 -960 960 960\">\n",
              "    <path d=\"M120-120v-720h720v720H120Zm60-500h600v-160H180v160Zm220 220h160v-160H400v160Zm0 220h160v-160H400v160ZM180-400h160v-160H180v160Zm440 0h160v-160H620v160ZM180-180h160v-160H180v160Zm440 0h160v-160H620v160Z\"/>\n",
              "  </svg>\n",
              "    </button>\n",
              "\n",
              "  <style>\n",
              "    .colab-df-container {\n",
              "      display:flex;\n",
              "      gap: 12px;\n",
              "    }\n",
              "\n",
              "    .colab-df-convert {\n",
              "      background-color: #E8F0FE;\n",
              "      border: none;\n",
              "      border-radius: 50%;\n",
              "      cursor: pointer;\n",
              "      display: none;\n",
              "      fill: #1967D2;\n",
              "      height: 32px;\n",
              "      padding: 0 0 0 0;\n",
              "      width: 32px;\n",
              "    }\n",
              "\n",
              "    .colab-df-convert:hover {\n",
              "      background-color: #E2EBFA;\n",
              "      box-shadow: 0px 1px 2px rgba(60, 64, 67, 0.3), 0px 1px 3px 1px rgba(60, 64, 67, 0.15);\n",
              "      fill: #174EA6;\n",
              "    }\n",
              "\n",
              "    .colab-df-buttons div {\n",
              "      margin-bottom: 4px;\n",
              "    }\n",
              "\n",
              "    [theme=dark] .colab-df-convert {\n",
              "      background-color: #3B4455;\n",
              "      fill: #D2E3FC;\n",
              "    }\n",
              "\n",
              "    [theme=dark] .colab-df-convert:hover {\n",
              "      background-color: #434B5C;\n",
              "      box-shadow: 0px 1px 3px 1px rgba(0, 0, 0, 0.15);\n",
              "      filter: drop-shadow(0px 1px 2px rgba(0, 0, 0, 0.3));\n",
              "      fill: #FFFFFF;\n",
              "    }\n",
              "  </style>\n",
              "\n",
              "    <script>\n",
              "      const buttonEl =\n",
              "        document.querySelector('#df-54bdcb8b-0ea2-401e-a916-61556434f750 button.colab-df-convert');\n",
              "      buttonEl.style.display =\n",
              "        google.colab.kernel.accessAllowed ? 'block' : 'none';\n",
              "\n",
              "      async function convertToInteractive(key) {\n",
              "        const element = document.querySelector('#df-54bdcb8b-0ea2-401e-a916-61556434f750');\n",
              "        const dataTable =\n",
              "          await google.colab.kernel.invokeFunction('convertToInteractive',\n",
              "                                                    [key], {});\n",
              "        if (!dataTable) return;\n",
              "\n",
              "        const docLinkHtml = 'Like what you see? Visit the ' +\n",
              "          '<a target=\"_blank\" href=https://colab.research.google.com/notebooks/data_table.ipynb>data table notebook</a>'\n",
              "          + ' to learn more about interactive tables.';\n",
              "        element.innerHTML = '';\n",
              "        dataTable['output_type'] = 'display_data';\n",
              "        await google.colab.output.renderOutput(dataTable, element);\n",
              "        const docLink = document.createElement('div');\n",
              "        docLink.innerHTML = docLinkHtml;\n",
              "        element.appendChild(docLink);\n",
              "      }\n",
              "    </script>\n",
              "  </div>\n",
              "\n",
              "\n",
              "<div id=\"df-f499cd79-3321-4b3d-840f-c87fb1c93438\">\n",
              "  <button class=\"colab-df-quickchart\" onclick=\"quickchart('df-f499cd79-3321-4b3d-840f-c87fb1c93438')\"\n",
              "            title=\"Suggest charts\"\n",
              "            style=\"display:none;\">\n",
              "\n",
              "<svg xmlns=\"http://www.w3.org/2000/svg\" height=\"24px\"viewBox=\"0 0 24 24\"\n",
              "     width=\"24px\">\n",
              "    <g>\n",
              "        <path d=\"M19 3H5c-1.1 0-2 .9-2 2v14c0 1.1.9 2 2 2h14c1.1 0 2-.9 2-2V5c0-1.1-.9-2-2-2zM9 17H7v-7h2v7zm4 0h-2V7h2v10zm4 0h-2v-4h2v4z\"/>\n",
              "    </g>\n",
              "</svg>\n",
              "  </button>\n",
              "\n",
              "<style>\n",
              "  .colab-df-quickchart {\n",
              "      --bg-color: #E8F0FE;\n",
              "      --fill-color: #1967D2;\n",
              "      --hover-bg-color: #E2EBFA;\n",
              "      --hover-fill-color: #174EA6;\n",
              "      --disabled-fill-color: #AAA;\n",
              "      --disabled-bg-color: #DDD;\n",
              "  }\n",
              "\n",
              "  [theme=dark] .colab-df-quickchart {\n",
              "      --bg-color: #3B4455;\n",
              "      --fill-color: #D2E3FC;\n",
              "      --hover-bg-color: #434B5C;\n",
              "      --hover-fill-color: #FFFFFF;\n",
              "      --disabled-bg-color: #3B4455;\n",
              "      --disabled-fill-color: #666;\n",
              "  }\n",
              "\n",
              "  .colab-df-quickchart {\n",
              "    background-color: var(--bg-color);\n",
              "    border: none;\n",
              "    border-radius: 50%;\n",
              "    cursor: pointer;\n",
              "    display: none;\n",
              "    fill: var(--fill-color);\n",
              "    height: 32px;\n",
              "    padding: 0;\n",
              "    width: 32px;\n",
              "  }\n",
              "\n",
              "  .colab-df-quickchart:hover {\n",
              "    background-color: var(--hover-bg-color);\n",
              "    box-shadow: 0 1px 2px rgba(60, 64, 67, 0.3), 0 1px 3px 1px rgba(60, 64, 67, 0.15);\n",
              "    fill: var(--button-hover-fill-color);\n",
              "  }\n",
              "\n",
              "  .colab-df-quickchart-complete:disabled,\n",
              "  .colab-df-quickchart-complete:disabled:hover {\n",
              "    background-color: var(--disabled-bg-color);\n",
              "    fill: var(--disabled-fill-color);\n",
              "    box-shadow: none;\n",
              "  }\n",
              "\n",
              "  .colab-df-spinner {\n",
              "    border: 2px solid var(--fill-color);\n",
              "    border-color: transparent;\n",
              "    border-bottom-color: var(--fill-color);\n",
              "    animation:\n",
              "      spin 1s steps(1) infinite;\n",
              "  }\n",
              "\n",
              "  @keyframes spin {\n",
              "    0% {\n",
              "      border-color: transparent;\n",
              "      border-bottom-color: var(--fill-color);\n",
              "      border-left-color: var(--fill-color);\n",
              "    }\n",
              "    20% {\n",
              "      border-color: transparent;\n",
              "      border-left-color: var(--fill-color);\n",
              "      border-top-color: var(--fill-color);\n",
              "    }\n",
              "    30% {\n",
              "      border-color: transparent;\n",
              "      border-left-color: var(--fill-color);\n",
              "      border-top-color: var(--fill-color);\n",
              "      border-right-color: var(--fill-color);\n",
              "    }\n",
              "    40% {\n",
              "      border-color: transparent;\n",
              "      border-right-color: var(--fill-color);\n",
              "      border-top-color: var(--fill-color);\n",
              "    }\n",
              "    60% {\n",
              "      border-color: transparent;\n",
              "      border-right-color: var(--fill-color);\n",
              "    }\n",
              "    80% {\n",
              "      border-color: transparent;\n",
              "      border-right-color: var(--fill-color);\n",
              "      border-bottom-color: var(--fill-color);\n",
              "    }\n",
              "    90% {\n",
              "      border-color: transparent;\n",
              "      border-bottom-color: var(--fill-color);\n",
              "    }\n",
              "  }\n",
              "</style>\n",
              "\n",
              "  <script>\n",
              "    async function quickchart(key) {\n",
              "      const quickchartButtonEl =\n",
              "        document.querySelector('#' + key + ' button');\n",
              "      quickchartButtonEl.disabled = true;  // To prevent multiple clicks.\n",
              "      quickchartButtonEl.classList.add('colab-df-spinner');\n",
              "      try {\n",
              "        const charts = await google.colab.kernel.invokeFunction(\n",
              "            'suggestCharts', [key], {});\n",
              "      } catch (error) {\n",
              "        console.error('Error during call to suggestCharts:', error);\n",
              "      }\n",
              "      quickchartButtonEl.classList.remove('colab-df-spinner');\n",
              "      quickchartButtonEl.classList.add('colab-df-quickchart-complete');\n",
              "    }\n",
              "    (() => {\n",
              "      let quickchartButtonEl =\n",
              "        document.querySelector('#df-f499cd79-3321-4b3d-840f-c87fb1c93438 button');\n",
              "      quickchartButtonEl.style.display =\n",
              "        google.colab.kernel.accessAllowed ? 'block' : 'none';\n",
              "    })();\n",
              "  </script>\n",
              "</div>\n",
              "\n",
              "    </div>\n",
              "  </div>\n"
            ],
            "application/vnd.google.colaboratory.intrinsic+json": {
              "type": "dataframe",
              "variable_name": "data"
            }
          },
          "metadata": {},
          "execution_count": 119
        }
      ]
    },
    {
      "cell_type": "code",
      "source": [
        "data.tail()"
      ],
      "metadata": {
        "colab": {
          "base_uri": "https://localhost:8080/",
          "height": 342
        },
        "id": "PISZgnOQSaHk",
        "outputId": "e69b7876-3851-4cab-baa3-2466852e698f"
      },
      "execution_count": 120,
      "outputs": [
        {
          "output_type": "execute_result",
          "data": {
            "text/plain": [
              "                  race  gender      age admission_type_id  \\\n",
              "51673        Caucasian  Female  [70-80)         Emergency   \n",
              "51674        Caucasian  Female  [70-80)         Emergency   \n",
              "51675        Caucasian    Male  [70-80)         Emergency   \n",
              "51676  AfricanAmerican  Female  [50-60)          Elective   \n",
              "51677        Caucasian    Male  [60-70)          Elective   \n",
              "\n",
              "      discharge_disposition_id admission_source_id  time_in_hospital  \\\n",
              "51673                  Hospice            Referral         -1.632460   \n",
              "51674       Discharged to home      Emergency Room         -1.632460   \n",
              "51675                  Hospice      Emergency Room          0.766108   \n",
              "51676       Discharged to home            Referral         -1.632460   \n",
              "51677       Discharged to home            Referral         -0.825587   \n",
              "\n",
              "       num_lab_procedures  num_medications  number_outpatient  ...  \\\n",
              "51673           -0.769105        -1.520012           2.278833  ...   \n",
              "51674            0.910539         0.632617          -0.443669  ...   \n",
              "51675           -1.124029         0.841397          -0.443669  ...   \n",
              "51676           -0.667583        -0.544050          -0.443669  ...   \n",
              "51677           -0.000000              NaN                NaN  ...   \n",
              "\n",
              "       repaglinide  glipizide insulin change diabetesMed  readmitted  \\\n",
              "51673           No         No  Steady     No         Yes          NO   \n",
              "51674           No         No  Steady     No         Yes          NO   \n",
              "51675           No         No  Steady     Ch         Yes          NO   \n",
              "51676           No         No      No     Ch         Yes          NO   \n",
              "51677          NaN        NaN     NaN    NaN         NaN         NaN   \n",
              "\n",
              "      age_derived count_Steady count_Down count_Up  \n",
              "51673    0.452563     0.835716  -0.386999 -0.38205  \n",
              "51674    0.452563     0.835716  -0.386999 -0.38205  \n",
              "51675    0.452563     1.525004  -0.386999 -0.38205  \n",
              "51676   -0.753001     0.835716  -0.386999 -0.38205  \n",
              "51677         NaN          NaN        NaN      NaN  \n",
              "\n",
              "[5 rows x 29 columns]"
            ],
            "text/html": [
              "\n",
              "  <div id=\"df-6b32a008-a0e1-4081-b4a5-9bea04b75f85\" class=\"colab-df-container\">\n",
              "    <div>\n",
              "<style scoped>\n",
              "    .dataframe tbody tr th:only-of-type {\n",
              "        vertical-align: middle;\n",
              "    }\n",
              "\n",
              "    .dataframe tbody tr th {\n",
              "        vertical-align: top;\n",
              "    }\n",
              "\n",
              "    .dataframe thead th {\n",
              "        text-align: right;\n",
              "    }\n",
              "</style>\n",
              "<table border=\"1\" class=\"dataframe\">\n",
              "  <thead>\n",
              "    <tr style=\"text-align: right;\">\n",
              "      <th></th>\n",
              "      <th>race</th>\n",
              "      <th>gender</th>\n",
              "      <th>age</th>\n",
              "      <th>admission_type_id</th>\n",
              "      <th>discharge_disposition_id</th>\n",
              "      <th>admission_source_id</th>\n",
              "      <th>time_in_hospital</th>\n",
              "      <th>num_lab_procedures</th>\n",
              "      <th>num_medications</th>\n",
              "      <th>number_outpatient</th>\n",
              "      <th>...</th>\n",
              "      <th>repaglinide</th>\n",
              "      <th>glipizide</th>\n",
              "      <th>insulin</th>\n",
              "      <th>change</th>\n",
              "      <th>diabetesMed</th>\n",
              "      <th>readmitted</th>\n",
              "      <th>age_derived</th>\n",
              "      <th>count_Steady</th>\n",
              "      <th>count_Down</th>\n",
              "      <th>count_Up</th>\n",
              "    </tr>\n",
              "  </thead>\n",
              "  <tbody>\n",
              "    <tr>\n",
              "      <th>51673</th>\n",
              "      <td>Caucasian</td>\n",
              "      <td>Female</td>\n",
              "      <td>[70-80)</td>\n",
              "      <td>Emergency</td>\n",
              "      <td>Hospice</td>\n",
              "      <td>Referral</td>\n",
              "      <td>-1.632460</td>\n",
              "      <td>-0.769105</td>\n",
              "      <td>-1.520012</td>\n",
              "      <td>2.278833</td>\n",
              "      <td>...</td>\n",
              "      <td>No</td>\n",
              "      <td>No</td>\n",
              "      <td>Steady</td>\n",
              "      <td>No</td>\n",
              "      <td>Yes</td>\n",
              "      <td>NO</td>\n",
              "      <td>0.452563</td>\n",
              "      <td>0.835716</td>\n",
              "      <td>-0.386999</td>\n",
              "      <td>-0.38205</td>\n",
              "    </tr>\n",
              "    <tr>\n",
              "      <th>51674</th>\n",
              "      <td>Caucasian</td>\n",
              "      <td>Female</td>\n",
              "      <td>[70-80)</td>\n",
              "      <td>Emergency</td>\n",
              "      <td>Discharged to home</td>\n",
              "      <td>Emergency Room</td>\n",
              "      <td>-1.632460</td>\n",
              "      <td>0.910539</td>\n",
              "      <td>0.632617</td>\n",
              "      <td>-0.443669</td>\n",
              "      <td>...</td>\n",
              "      <td>No</td>\n",
              "      <td>No</td>\n",
              "      <td>Steady</td>\n",
              "      <td>No</td>\n",
              "      <td>Yes</td>\n",
              "      <td>NO</td>\n",
              "      <td>0.452563</td>\n",
              "      <td>0.835716</td>\n",
              "      <td>-0.386999</td>\n",
              "      <td>-0.38205</td>\n",
              "    </tr>\n",
              "    <tr>\n",
              "      <th>51675</th>\n",
              "      <td>Caucasian</td>\n",
              "      <td>Male</td>\n",
              "      <td>[70-80)</td>\n",
              "      <td>Emergency</td>\n",
              "      <td>Hospice</td>\n",
              "      <td>Emergency Room</td>\n",
              "      <td>0.766108</td>\n",
              "      <td>-1.124029</td>\n",
              "      <td>0.841397</td>\n",
              "      <td>-0.443669</td>\n",
              "      <td>...</td>\n",
              "      <td>No</td>\n",
              "      <td>No</td>\n",
              "      <td>Steady</td>\n",
              "      <td>Ch</td>\n",
              "      <td>Yes</td>\n",
              "      <td>NO</td>\n",
              "      <td>0.452563</td>\n",
              "      <td>1.525004</td>\n",
              "      <td>-0.386999</td>\n",
              "      <td>-0.38205</td>\n",
              "    </tr>\n",
              "    <tr>\n",
              "      <th>51676</th>\n",
              "      <td>AfricanAmerican</td>\n",
              "      <td>Female</td>\n",
              "      <td>[50-60)</td>\n",
              "      <td>Elective</td>\n",
              "      <td>Discharged to home</td>\n",
              "      <td>Referral</td>\n",
              "      <td>-1.632460</td>\n",
              "      <td>-0.667583</td>\n",
              "      <td>-0.544050</td>\n",
              "      <td>-0.443669</td>\n",
              "      <td>...</td>\n",
              "      <td>No</td>\n",
              "      <td>No</td>\n",
              "      <td>No</td>\n",
              "      <td>Ch</td>\n",
              "      <td>Yes</td>\n",
              "      <td>NO</td>\n",
              "      <td>-0.753001</td>\n",
              "      <td>0.835716</td>\n",
              "      <td>-0.386999</td>\n",
              "      <td>-0.38205</td>\n",
              "    </tr>\n",
              "    <tr>\n",
              "      <th>51677</th>\n",
              "      <td>Caucasian</td>\n",
              "      <td>Male</td>\n",
              "      <td>[60-70)</td>\n",
              "      <td>Elective</td>\n",
              "      <td>Discharged to home</td>\n",
              "      <td>Referral</td>\n",
              "      <td>-0.825587</td>\n",
              "      <td>-0.000000</td>\n",
              "      <td>NaN</td>\n",
              "      <td>NaN</td>\n",
              "      <td>...</td>\n",
              "      <td>NaN</td>\n",
              "      <td>NaN</td>\n",
              "      <td>NaN</td>\n",
              "      <td>NaN</td>\n",
              "      <td>NaN</td>\n",
              "      <td>NaN</td>\n",
              "      <td>NaN</td>\n",
              "      <td>NaN</td>\n",
              "      <td>NaN</td>\n",
              "      <td>NaN</td>\n",
              "    </tr>\n",
              "  </tbody>\n",
              "</table>\n",
              "<p>5 rows × 29 columns</p>\n",
              "</div>\n",
              "    <div class=\"colab-df-buttons\">\n",
              "\n",
              "  <div class=\"colab-df-container\">\n",
              "    <button class=\"colab-df-convert\" onclick=\"convertToInteractive('df-6b32a008-a0e1-4081-b4a5-9bea04b75f85')\"\n",
              "            title=\"Convert this dataframe to an interactive table.\"\n",
              "            style=\"display:none;\">\n",
              "\n",
              "  <svg xmlns=\"http://www.w3.org/2000/svg\" height=\"24px\" viewBox=\"0 -960 960 960\">\n",
              "    <path d=\"M120-120v-720h720v720H120Zm60-500h600v-160H180v160Zm220 220h160v-160H400v160Zm0 220h160v-160H400v160ZM180-400h160v-160H180v160Zm440 0h160v-160H620v160ZM180-180h160v-160H180v160Zm440 0h160v-160H620v160Z\"/>\n",
              "  </svg>\n",
              "    </button>\n",
              "\n",
              "  <style>\n",
              "    .colab-df-container {\n",
              "      display:flex;\n",
              "      gap: 12px;\n",
              "    }\n",
              "\n",
              "    .colab-df-convert {\n",
              "      background-color: #E8F0FE;\n",
              "      border: none;\n",
              "      border-radius: 50%;\n",
              "      cursor: pointer;\n",
              "      display: none;\n",
              "      fill: #1967D2;\n",
              "      height: 32px;\n",
              "      padding: 0 0 0 0;\n",
              "      width: 32px;\n",
              "    }\n",
              "\n",
              "    .colab-df-convert:hover {\n",
              "      background-color: #E2EBFA;\n",
              "      box-shadow: 0px 1px 2px rgba(60, 64, 67, 0.3), 0px 1px 3px 1px rgba(60, 64, 67, 0.15);\n",
              "      fill: #174EA6;\n",
              "    }\n",
              "\n",
              "    .colab-df-buttons div {\n",
              "      margin-bottom: 4px;\n",
              "    }\n",
              "\n",
              "    [theme=dark] .colab-df-convert {\n",
              "      background-color: #3B4455;\n",
              "      fill: #D2E3FC;\n",
              "    }\n",
              "\n",
              "    [theme=dark] .colab-df-convert:hover {\n",
              "      background-color: #434B5C;\n",
              "      box-shadow: 0px 1px 3px 1px rgba(0, 0, 0, 0.15);\n",
              "      filter: drop-shadow(0px 1px 2px rgba(0, 0, 0, 0.3));\n",
              "      fill: #FFFFFF;\n",
              "    }\n",
              "  </style>\n",
              "\n",
              "    <script>\n",
              "      const buttonEl =\n",
              "        document.querySelector('#df-6b32a008-a0e1-4081-b4a5-9bea04b75f85 button.colab-df-convert');\n",
              "      buttonEl.style.display =\n",
              "        google.colab.kernel.accessAllowed ? 'block' : 'none';\n",
              "\n",
              "      async function convertToInteractive(key) {\n",
              "        const element = document.querySelector('#df-6b32a008-a0e1-4081-b4a5-9bea04b75f85');\n",
              "        const dataTable =\n",
              "          await google.colab.kernel.invokeFunction('convertToInteractive',\n",
              "                                                    [key], {});\n",
              "        if (!dataTable) return;\n",
              "\n",
              "        const docLinkHtml = 'Like what you see? Visit the ' +\n",
              "          '<a target=\"_blank\" href=https://colab.research.google.com/notebooks/data_table.ipynb>data table notebook</a>'\n",
              "          + ' to learn more about interactive tables.';\n",
              "        element.innerHTML = '';\n",
              "        dataTable['output_type'] = 'display_data';\n",
              "        await google.colab.output.renderOutput(dataTable, element);\n",
              "        const docLink = document.createElement('div');\n",
              "        docLink.innerHTML = docLinkHtml;\n",
              "        element.appendChild(docLink);\n",
              "      }\n",
              "    </script>\n",
              "  </div>\n",
              "\n",
              "\n",
              "<div id=\"df-e7b73f07-8b58-45ba-840d-38d73db46be6\">\n",
              "  <button class=\"colab-df-quickchart\" onclick=\"quickchart('df-e7b73f07-8b58-45ba-840d-38d73db46be6')\"\n",
              "            title=\"Suggest charts\"\n",
              "            style=\"display:none;\">\n",
              "\n",
              "<svg xmlns=\"http://www.w3.org/2000/svg\" height=\"24px\"viewBox=\"0 0 24 24\"\n",
              "     width=\"24px\">\n",
              "    <g>\n",
              "        <path d=\"M19 3H5c-1.1 0-2 .9-2 2v14c0 1.1.9 2 2 2h14c1.1 0 2-.9 2-2V5c0-1.1-.9-2-2-2zM9 17H7v-7h2v7zm4 0h-2V7h2v10zm4 0h-2v-4h2v4z\"/>\n",
              "    </g>\n",
              "</svg>\n",
              "  </button>\n",
              "\n",
              "<style>\n",
              "  .colab-df-quickchart {\n",
              "      --bg-color: #E8F0FE;\n",
              "      --fill-color: #1967D2;\n",
              "      --hover-bg-color: #E2EBFA;\n",
              "      --hover-fill-color: #174EA6;\n",
              "      --disabled-fill-color: #AAA;\n",
              "      --disabled-bg-color: #DDD;\n",
              "  }\n",
              "\n",
              "  [theme=dark] .colab-df-quickchart {\n",
              "      --bg-color: #3B4455;\n",
              "      --fill-color: #D2E3FC;\n",
              "      --hover-bg-color: #434B5C;\n",
              "      --hover-fill-color: #FFFFFF;\n",
              "      --disabled-bg-color: #3B4455;\n",
              "      --disabled-fill-color: #666;\n",
              "  }\n",
              "\n",
              "  .colab-df-quickchart {\n",
              "    background-color: var(--bg-color);\n",
              "    border: none;\n",
              "    border-radius: 50%;\n",
              "    cursor: pointer;\n",
              "    display: none;\n",
              "    fill: var(--fill-color);\n",
              "    height: 32px;\n",
              "    padding: 0;\n",
              "    width: 32px;\n",
              "  }\n",
              "\n",
              "  .colab-df-quickchart:hover {\n",
              "    background-color: var(--hover-bg-color);\n",
              "    box-shadow: 0 1px 2px rgba(60, 64, 67, 0.3), 0 1px 3px 1px rgba(60, 64, 67, 0.15);\n",
              "    fill: var(--button-hover-fill-color);\n",
              "  }\n",
              "\n",
              "  .colab-df-quickchart-complete:disabled,\n",
              "  .colab-df-quickchart-complete:disabled:hover {\n",
              "    background-color: var(--disabled-bg-color);\n",
              "    fill: var(--disabled-fill-color);\n",
              "    box-shadow: none;\n",
              "  }\n",
              "\n",
              "  .colab-df-spinner {\n",
              "    border: 2px solid var(--fill-color);\n",
              "    border-color: transparent;\n",
              "    border-bottom-color: var(--fill-color);\n",
              "    animation:\n",
              "      spin 1s steps(1) infinite;\n",
              "  }\n",
              "\n",
              "  @keyframes spin {\n",
              "    0% {\n",
              "      border-color: transparent;\n",
              "      border-bottom-color: var(--fill-color);\n",
              "      border-left-color: var(--fill-color);\n",
              "    }\n",
              "    20% {\n",
              "      border-color: transparent;\n",
              "      border-left-color: var(--fill-color);\n",
              "      border-top-color: var(--fill-color);\n",
              "    }\n",
              "    30% {\n",
              "      border-color: transparent;\n",
              "      border-left-color: var(--fill-color);\n",
              "      border-top-color: var(--fill-color);\n",
              "      border-right-color: var(--fill-color);\n",
              "    }\n",
              "    40% {\n",
              "      border-color: transparent;\n",
              "      border-right-color: var(--fill-color);\n",
              "      border-top-color: var(--fill-color);\n",
              "    }\n",
              "    60% {\n",
              "      border-color: transparent;\n",
              "      border-right-color: var(--fill-color);\n",
              "    }\n",
              "    80% {\n",
              "      border-color: transparent;\n",
              "      border-right-color: var(--fill-color);\n",
              "      border-bottom-color: var(--fill-color);\n",
              "    }\n",
              "    90% {\n",
              "      border-color: transparent;\n",
              "      border-bottom-color: var(--fill-color);\n",
              "    }\n",
              "  }\n",
              "</style>\n",
              "\n",
              "  <script>\n",
              "    async function quickchart(key) {\n",
              "      const quickchartButtonEl =\n",
              "        document.querySelector('#' + key + ' button');\n",
              "      quickchartButtonEl.disabled = true;  // To prevent multiple clicks.\n",
              "      quickchartButtonEl.classList.add('colab-df-spinner');\n",
              "      try {\n",
              "        const charts = await google.colab.kernel.invokeFunction(\n",
              "            'suggestCharts', [key], {});\n",
              "      } catch (error) {\n",
              "        console.error('Error during call to suggestCharts:', error);\n",
              "      }\n",
              "      quickchartButtonEl.classList.remove('colab-df-spinner');\n",
              "      quickchartButtonEl.classList.add('colab-df-quickchart-complete');\n",
              "    }\n",
              "    (() => {\n",
              "      let quickchartButtonEl =\n",
              "        document.querySelector('#df-e7b73f07-8b58-45ba-840d-38d73db46be6 button');\n",
              "      quickchartButtonEl.style.display =\n",
              "        google.colab.kernel.accessAllowed ? 'block' : 'none';\n",
              "    })();\n",
              "  </script>\n",
              "</div>\n",
              "\n",
              "    </div>\n",
              "  </div>\n"
            ],
            "application/vnd.google.colaboratory.intrinsic+json": {
              "type": "dataframe"
            }
          },
          "metadata": {},
          "execution_count": 120
        }
      ]
    },
    {
      "cell_type": "code",
      "source": [
        "data.info()"
      ],
      "metadata": {
        "colab": {
          "base_uri": "https://localhost:8080/"
        },
        "id": "kY3rCY85SaFH",
        "outputId": "9bf5cc43-550d-4932-bb97-6256760839fb"
      },
      "execution_count": 121,
      "outputs": [
        {
          "output_type": "stream",
          "name": "stdout",
          "text": [
            "<class 'pandas.core.frame.DataFrame'>\n",
            "RangeIndex: 51678 entries, 0 to 51677\n",
            "Data columns (total 29 columns):\n",
            " #   Column                    Non-Null Count  Dtype  \n",
            "---  ------                    --------------  -----  \n",
            " 0   race                      51678 non-null  object \n",
            " 1   gender                    51678 non-null  object \n",
            " 2   age                       51678 non-null  object \n",
            " 3   admission_type_id         51678 non-null  object \n",
            " 4   discharge_disposition_id  51678 non-null  object \n",
            " 5   admission_source_id       51678 non-null  object \n",
            " 6   time_in_hospital          51678 non-null  float64\n",
            " 7   num_lab_procedures        51678 non-null  float64\n",
            " 8   num_medications           51677 non-null  float64\n",
            " 9   number_outpatient         51677 non-null  float64\n",
            " 10  number_emergency          51677 non-null  float64\n",
            " 11  number_inpatient          51677 non-null  float64\n",
            " 12  diag_1                    51666 non-null  object \n",
            " 13  diag_2                    51409 non-null  object \n",
            " 14  diag_3                    50581 non-null  object \n",
            " 15  number_diagnoses          51677 non-null  float64\n",
            " 16  max_glu_serum             4655 non-null   object \n",
            " 17  A1Cresult                 7812 non-null   object \n",
            " 18  metformin                 51677 non-null  object \n",
            " 19  repaglinide               51677 non-null  object \n",
            " 20  glipizide                 51677 non-null  object \n",
            " 21  insulin                   51677 non-null  object \n",
            " 22  change                    51677 non-null  object \n",
            " 23  diabetesMed               51677 non-null  object \n",
            " 24  readmitted                51677 non-null  object \n",
            " 25  age_derived               51677 non-null  float64\n",
            " 26  count_Steady              51677 non-null  float64\n",
            " 27  count_Down                51677 non-null  float64\n",
            " 28  count_Up                  51677 non-null  float64\n",
            "dtypes: float64(11), object(18)\n",
            "memory usage: 11.4+ MB\n"
          ]
        }
      ]
    },
    {
      "cell_type": "code",
      "source": [
        "data.isnull().sum()"
      ],
      "metadata": {
        "colab": {
          "base_uri": "https://localhost:8080/"
        },
        "id": "MCf8zljDSaCd",
        "outputId": "78d35982-3d2a-4652-9142-2412e9d8b02f"
      },
      "execution_count": 122,
      "outputs": [
        {
          "output_type": "execute_result",
          "data": {
            "text/plain": [
              "race                            0\n",
              "gender                          0\n",
              "age                             0\n",
              "admission_type_id               0\n",
              "discharge_disposition_id        0\n",
              "admission_source_id             0\n",
              "time_in_hospital                0\n",
              "num_lab_procedures              0\n",
              "num_medications                 1\n",
              "number_outpatient               1\n",
              "number_emergency                1\n",
              "number_inpatient                1\n",
              "diag_1                         12\n",
              "diag_2                        269\n",
              "diag_3                       1097\n",
              "number_diagnoses                1\n",
              "max_glu_serum               47023\n",
              "A1Cresult                   43866\n",
              "metformin                       1\n",
              "repaglinide                     1\n",
              "glipizide                       1\n",
              "insulin                         1\n",
              "change                          1\n",
              "diabetesMed                     1\n",
              "readmitted                      1\n",
              "age_derived                     1\n",
              "count_Steady                    1\n",
              "count_Down                      1\n",
              "count_Up                        1\n",
              "dtype: int64"
            ]
          },
          "metadata": {},
          "execution_count": 122
        }
      ]
    },
    {
      "cell_type": "code",
      "source": [
        "data=data.drop('A1Cresult',axis=1)"
      ],
      "metadata": {
        "id": "8ZLbiL8VSZ_u"
      },
      "execution_count": 123,
      "outputs": []
    },
    {
      "cell_type": "code",
      "source": [
        "data=data.drop('max_glu_serum',axis=1)"
      ],
      "metadata": {
        "id": "ynEx4CF7SZ9c"
      },
      "execution_count": 124,
      "outputs": []
    },
    {
      "cell_type": "code",
      "source": [
        "data=data.drop('race',axis=1)"
      ],
      "metadata": {
        "id": "-XR2uyDhSZ6x"
      },
      "execution_count": 125,
      "outputs": []
    },
    {
      "cell_type": "code",
      "source": [
        "data.shape"
      ],
      "metadata": {
        "colab": {
          "base_uri": "https://localhost:8080/"
        },
        "id": "KXnFBUcnSZ4A",
        "outputId": "2c27e8e2-96fc-4cdb-b3ce-0d982d1f4d55"
      },
      "execution_count": 126,
      "outputs": [
        {
          "output_type": "execute_result",
          "data": {
            "text/plain": [
              "(51678, 26)"
            ]
          },
          "metadata": {},
          "execution_count": 126
        }
      ]
    },
    {
      "cell_type": "code",
      "source": [
        "from sklearn.preprocessing import LabelEncoder"
      ],
      "metadata": {
        "id": "FSmPjwT3SZym"
      },
      "execution_count": 128,
      "outputs": []
    },
    {
      "cell_type": "code",
      "source": [
        "le=LabelEncoder()"
      ],
      "metadata": {
        "id": "MIwb87-HSZv5"
      },
      "execution_count": 129,
      "outputs": []
    },
    {
      "cell_type": "code",
      "source": [
        "data['gender']=le.fit_transform(data['gender'])"
      ],
      "metadata": {
        "id": "nWPmGscaSZtI"
      },
      "execution_count": 130,
      "outputs": []
    },
    {
      "cell_type": "code",
      "source": [
        "data['age']=le.fit_transform(data['age'])"
      ],
      "metadata": {
        "id": "gTC1Aa41SZqp"
      },
      "execution_count": 131,
      "outputs": []
    },
    {
      "cell_type": "code",
      "source": [
        "data['admission_type_id']=le.fit_transform(data['admission_type_id'])"
      ],
      "metadata": {
        "id": "o5QqH6ByVQPm"
      },
      "execution_count": 132,
      "outputs": []
    },
    {
      "cell_type": "code",
      "source": [
        "data['discharge_disposition_id']=le.fit_transform(data['discharge_disposition_id'])"
      ],
      "metadata": {
        "id": "Sn6M4Y1hVQML"
      },
      "execution_count": 133,
      "outputs": []
    },
    {
      "cell_type": "code",
      "source": [
        "data['admission_source_id']=le.fit_transform(data['admission_source_id'])"
      ],
      "metadata": {
        "id": "CUNv6T1LVQJb"
      },
      "execution_count": 134,
      "outputs": []
    },
    {
      "cell_type": "code",
      "source": [
        "data['diag_1']=le.fit_transform(data['diag_1'])"
      ],
      "metadata": {
        "id": "aLYvdh0JVQGy"
      },
      "execution_count": 135,
      "outputs": []
    },
    {
      "cell_type": "code",
      "source": [
        "data['diag_2']=le.fit_transform(data['diag_2'])"
      ],
      "metadata": {
        "id": "Khtq32tQV4Z6"
      },
      "execution_count": 136,
      "outputs": []
    },
    {
      "cell_type": "code",
      "source": [
        "data['diag_3']=le.fit_transform(data['diag_3'])"
      ],
      "metadata": {
        "id": "IVuP4A-OV4Wi"
      },
      "execution_count": 137,
      "outputs": []
    },
    {
      "cell_type": "code",
      "source": [
        "data['metformin']=le.fit_transform(data['metformin'])"
      ],
      "metadata": {
        "id": "6xRhP-8JV4Ub"
      },
      "execution_count": 139,
      "outputs": []
    },
    {
      "cell_type": "code",
      "source": [
        "data['repaglinide']=le.fit_transform(data['repaglinide'])"
      ],
      "metadata": {
        "id": "yXdytUK0VQEL"
      },
      "execution_count": 140,
      "outputs": []
    },
    {
      "cell_type": "code",
      "source": [
        "data['glipizide']=le.fit_transform(data['glipizide'])"
      ],
      "metadata": {
        "id": "Pw1A7Py3VQBv"
      },
      "execution_count": 141,
      "outputs": []
    },
    {
      "cell_type": "code",
      "source": [
        "data['insulin']=le.fit_transform(data['insulin'])"
      ],
      "metadata": {
        "id": "pDtrHaUtVP_K"
      },
      "execution_count": 142,
      "outputs": []
    },
    {
      "cell_type": "code",
      "source": [
        "data['change']=le.fit_transform(data['change'])"
      ],
      "metadata": {
        "id": "GtfznSlsVP8k"
      },
      "execution_count": 143,
      "outputs": []
    },
    {
      "cell_type": "code",
      "source": [
        "data['diabetesMed']=le.fit_transform(data['diabetesMed'])"
      ],
      "metadata": {
        "id": "Jbjw-3atVP6v"
      },
      "execution_count": 144,
      "outputs": []
    },
    {
      "cell_type": "code",
      "source": [
        "data['readmitted']=le.fit_transform(data['readmitted'])"
      ],
      "metadata": {
        "id": "E0F5duWYVP3q"
      },
      "execution_count": 145,
      "outputs": []
    },
    {
      "cell_type": "code",
      "source": [
        "data.info()"
      ],
      "metadata": {
        "colab": {
          "base_uri": "https://localhost:8080/"
        },
        "id": "hUxUXDiuVP1Q",
        "outputId": "17f44c89-1d24-49ec-8c38-74e94a7212fc"
      },
      "execution_count": 146,
      "outputs": [
        {
          "output_type": "stream",
          "name": "stdout",
          "text": [
            "<class 'pandas.core.frame.DataFrame'>\n",
            "RangeIndex: 51678 entries, 0 to 51677\n",
            "Data columns (total 26 columns):\n",
            " #   Column                    Non-Null Count  Dtype  \n",
            "---  ------                    --------------  -----  \n",
            " 0   gender                    51678 non-null  int64  \n",
            " 1   age                       51678 non-null  int64  \n",
            " 2   admission_type_id         51678 non-null  int64  \n",
            " 3   discharge_disposition_id  51678 non-null  int64  \n",
            " 4   admission_source_id       51678 non-null  int64  \n",
            " 5   time_in_hospital          51678 non-null  float64\n",
            " 6   num_lab_procedures        51678 non-null  float64\n",
            " 7   num_medications           51677 non-null  float64\n",
            " 8   number_outpatient         51677 non-null  float64\n",
            " 9   number_emergency          51677 non-null  float64\n",
            " 10  number_inpatient          51677 non-null  float64\n",
            " 11  diag_1                    51678 non-null  int64  \n",
            " 12  diag_2                    51678 non-null  int64  \n",
            " 13  diag_3                    51678 non-null  int64  \n",
            " 14  number_diagnoses          51677 non-null  float64\n",
            " 15  metformin                 51678 non-null  int64  \n",
            " 16  repaglinide               51678 non-null  int64  \n",
            " 17  glipizide                 51678 non-null  int64  \n",
            " 18  insulin                   51678 non-null  int64  \n",
            " 19  change                    51678 non-null  int64  \n",
            " 20  diabetesMed               51678 non-null  int64  \n",
            " 21  readmitted                51678 non-null  int64  \n",
            " 22  age_derived               51677 non-null  float64\n",
            " 23  count_Steady              51677 non-null  float64\n",
            " 24  count_Down                51677 non-null  float64\n",
            " 25  count_Up                  51677 non-null  float64\n",
            "dtypes: float64(11), int64(15)\n",
            "memory usage: 10.3 MB\n"
          ]
        }
      ]
    },
    {
      "cell_type": "code",
      "source": [
        "import seaborn as sns\n",
        "import matplotlib as mp\n",
        "import matplotlib.pyplot as plt"
      ],
      "metadata": {
        "id": "w6X7XRkXVPzE"
      },
      "execution_count": 147,
      "outputs": []
    },
    {
      "cell_type": "code",
      "source": [
        "fig=plt.figure(figsize=(8,8))\n",
        "sns.barplot(x=data['readmitted'], y=data['diabetesMed']).set_title(\"diabetesMed vs readmitted\")"
      ],
      "metadata": {
        "colab": {
          "base_uri": "https://localhost:8080/",
          "height": 706
        },
        "id": "oL1VPj-BkZ9Q",
        "outputId": "bd6b3a64-edd4-4eea-e6c6-304c835f8ae0"
      },
      "execution_count": 230,
      "outputs": [
        {
          "output_type": "execute_result",
          "data": {
            "text/plain": [
              "Text(0.5, 1.0, 'diabetesMed vs readmitted')"
            ]
          },
          "metadata": {},
          "execution_count": 230
        },
        {
          "output_type": "display_data",
          "data": {
            "text/plain": [
              "<Figure size 800x800 with 1 Axes>"
            ],
            "image/png": "[encoded data removed]"
          },
          "metadata": {}
        }
      ]
    },
    {
      "cell_type": "code",
      "source": [
        "fig=plt.figure(figsize=(15,10))\n",
        "sns.countplot(y=data['age'], hue=data['readmitted']).set_title(\"age of patients vs readmitted\")"
      ],
      "metadata": {
        "colab": {
          "base_uri": "https://localhost:8080/",
          "height": 504
        },
        "id": "3nYuwKEEkZ5h",
        "outputId": "a7489ec2-54f3-4f4b-dfb1-6fc2b50bb746"
      },
      "execution_count": 231,
      "outputs": [
        {
          "output_type": "execute_result",
          "data": {
            "text/plain": [
              "Text(0.5, 1.0, 'age of patients vs readmitted')"
            ]
          },
          "metadata": {},
          "execution_count": 231
        },
        {
          "output_type": "display_data",
          "data": {
            "text/plain": [
              "<Figure size 1500x1000 with 1 Axes>"
            ],
            "image/png": "[encoded data removed]"
          },
          "metadata": {}
        }
      ]
    },
    {
      "cell_type": "code",
      "source": [
        "fig=plt.figure(figsize=(15,10))\n",
        "sns.countplot(x=data['change'], hue=data['readmitted']).set_title(\"change vs readmitted\")"
      ],
      "metadata": {
        "colab": {
          "base_uri": "https://localhost:8080/",
          "height": 491
        },
        "id": "jcpf7_mVkZ3W",
        "outputId": "80373d6d-d606-49f8-de18-86d156b08083"
      },
      "execution_count": 232,
      "outputs": [
        {
          "output_type": "execute_result",
          "data": {
            "text/plain": [
              "Text(0.5, 1.0, 'change vs readmitted')"
            ]
          },
          "metadata": {},
          "execution_count": 232
        },
        {
          "output_type": "display_data",
          "data": {
            "text/plain": [
              "<Figure size 1500x1000 with 1 Axes>"
            ],
            "image/png": "[encoded data removed]"
          },
          "metadata": {}
        }
      ]
    },
    {
      "cell_type": "code",
      "source": [
        "fig=plt.figure(figsize=(15,10))\n",
        "sns.countplot(y=data['diabetesMed'], hue=data['readmitted']).set_title(\"diabetesMed vs readmitted\")"
      ],
      "metadata": {
        "colab": {
          "base_uri": "https://localhost:8080/",
          "height": 504
        },
        "id": "rCLy9C7qkZ1G",
        "outputId": "82ab881f-88b5-45e4-fa8e-75ec0af05669"
      },
      "execution_count": 233,
      "outputs": [
        {
          "output_type": "execute_result",
          "data": {
            "text/plain": [
              "Text(0.5, 1.0, 'diabetesMed vs readmitted')"
            ]
          },
          "metadata": {},
          "execution_count": 233
        },
        {
          "output_type": "display_data",
          "data": {
            "text/plain": [
              "<Figure size 1500x1000 with 1 Axes>"
            ],
            "image/png": "[encoded data removed]"
          },
          "metadata": {}
        }
      ]
    },
    {
      "cell_type": "code",
      "source": [],
      "metadata": {
        "id": "0Wt48-sbkZy6"
      },
      "execution_count": null,
      "outputs": []
    },
    {
      "cell_type": "code",
      "source": [],
      "metadata": {
        "id": "XO_ybuA0kZwj"
      },
      "execution_count": null,
      "outputs": []
    },
    {
      "cell_type": "code",
      "source": [],
      "metadata": {
        "id": "guvdrYRmkZuU"
      },
      "execution_count": null,
      "outputs": []
    },
    {
      "cell_type": "code",
      "source": [],
      "metadata": {
        "id": "H3YMwBNJkZsB"
      },
      "execution_count": null,
      "outputs": []
    },
    {
      "cell_type": "code",
      "source": [],
      "metadata": {
        "id": "24XjR13ZkZpk"
      },
      "execution_count": null,
      "outputs": []
    },
    {
      "cell_type": "code",
      "source": [
        "data['readmitted'].value_counts().plot(kind='bar')"
      ],
      "metadata": {
        "colab": {
          "base_uri": "https://localhost:8080/",
          "height": 462
        },
        "id": "Dr68M10fVPwa",
        "outputId": "2b962121-a57e-4db7-909f-927f66106fae"
      },
      "execution_count": 148,
      "outputs": [
        {
          "output_type": "execute_result",
          "data": {
            "text/plain": [
              "<Axes: xlabel='readmitted'>"
            ]
          },
          "metadata": {},
          "execution_count": 148
        },
        {
          "output_type": "display_data",
          "data": {
            "text/plain": [
              "<Figure size 640x480 with 1 Axes>"
            ],
            "image/png": "[encoded data removed]"
          },
          "metadata": {}
        }
      ]
    },
    {
      "source": [
        "!pip install imbalanced-learn\n",
        "\n",
        "import pandas as pd\n",
        "from imblearn.over_sampling import SMOTE\n",
        "\n",
        "# Assuming 'data' is your DataFrame and 'readmitted' is the target column\n",
        "X = data.drop('readmitted', axis=1)  # Features\n",
        "y = data['readmitted']  # Target variable\n",
        "\n",
        "# Check the distribution of your target variable\n",
        "print(y.value_counts())\n",
        "\n",
        "# Handle cases where a class has only one sample\n",
        "# Here, we simply avoid oversampling if a class has less than 2 samples\n",
        "k_neighbors = min(3, y.value_counts().min())\n",
        "if k_neighbors > 1:\n",
        "    smote = SMOTE(k_neighbors=k_neighbors)\n",
        "\n",
        "    # Resample the dataset\n",
        "    X_resampled, y_resampled = smote.fit_resample(X, y)\n",
        "\n",
        "    # Create a new balanced DataFrame\n",
        "    data_resampled = pd.concat([pd.DataFrame(X_resampled), pd.DataFrame(y_resampled, columns=['readmitted'])], axis=1)\n",
        "\n",
        "    # Now 'data_resampled' contains an oversampled version of your data\n",
        "    print(data_resampled['readmitted'].value_counts())\n",
        "else:\n",
        "    print(\"Warning: A class has less than 2 samples. SMOTE cannot be applied.\")"
      ],
      "cell_type": "code",
      "metadata": {
        "colab": {
          "base_uri": "https://localhost:8080/"
        },
        "id": "yIULH_LpdN6r",
        "outputId": "626c2dc8-18cd-45fc-a807-56cfe6a54ab9"
      },
      "execution_count": 194,
      "outputs": [
        {
          "output_type": "stream",
          "name": "stdout",
          "text": [
            "Requirement already satisfied: imbalanced-learn in /usr/local/lib/python3.10/dist-packages (0.10.1)\n",
            "Requirement already satisfied: numpy>=1.17.3 in /usr/local/lib/python3.10/dist-packages (from imbalanced-learn) (1.25.2)\n",
            "Requirement already satisfied: scipy>=1.3.2 in /usr/local/lib/python3.10/dist-packages (from imbalanced-learn) (1.11.4)\n",
            "Requirement already satisfied: scikit-learn>=1.0.2 in /usr/local/lib/python3.10/dist-packages (from imbalanced-learn) (1.2.2)\n",
            "Requirement already satisfied: joblib>=1.1.1 in /usr/local/lib/python3.10/dist-packages (from imbalanced-learn) (1.4.2)\n",
            "Requirement already satisfied: threadpoolctl>=2.0.0 in /usr/local/lib/python3.10/dist-packages (from imbalanced-learn) (3.5.0)\n",
            "readmitted\n",
            "1    45749\n",
            "0     5928\n",
            "2        1\n",
            "Name: count, dtype: int64\n",
            "Warning: A class has less than 2 samples. SMOTE cannot be applied.\n"
          ]
        }
      ]
    },
    {
      "cell_type": "code",
      "source": [
        "X = data.drop('diabetesMed', axis=1)  # Features\n",
        "y = data['diabetesMed']  # Target variable\n",
        "\n",
        "# Check the distribution of your target variable\n",
        "print(y.value_counts())\n",
        "\n",
        "# Handle cases where a class has only one sample\n",
        "# Here, we simply avoid oversampling if a class has less than 2 samples\n",
        "k_neighbors = min(3, y.value_counts().min())\n",
        "if k_neighbors > 1:\n",
        "    smote = SMOTE(k_neighbors=k_neighbors)\n",
        "\n",
        "    # Resample the dataset\n",
        "    X_resampled, y_resampled = smote.fit_resample(X, y)\n",
        "\n",
        "    # Create a new balanced DataFrame\n",
        "    data_resampled = pd.concat([pd.DataFrame(X_resampled), pd.DataFrame(y_resampled, columns=['diabetesMed'])], axis=1)\n",
        "\n",
        "    # Now 'data_resampled' contains an oversampled version of your data\n",
        "    print(data_resampled['diabetesMed'].value_counts())\n",
        "else:\n",
        "    print(\"Warning: A class has less than 2 samples. SMOTE cannot be applied.\")"
      ],
      "metadata": {
        "colab": {
          "base_uri": "https://localhost:8080/"
        },
        "id": "fhJQboydkYA6",
        "outputId": "057882aa-159a-428a-c9f6-170549bea3a7"
      },
      "execution_count": 234,
      "outputs": [
        {
          "output_type": "stream",
          "name": "stdout",
          "text": [
            "diabetesMed\n",
            "1    38587\n",
            "0    13090\n",
            "2        1\n",
            "Name: count, dtype: int64\n",
            "Warning: A class has less than 2 samples. SMOTE cannot be applied.\n"
          ]
        }
      ]
    },
    {
      "cell_type": "code",
      "source": [],
      "metadata": {
        "id": "yAWhlrw6kX9W"
      },
      "execution_count": null,
      "outputs": []
    },
    {
      "cell_type": "code",
      "source": [],
      "metadata": {
        "id": "jNshQt06kX6-"
      },
      "execution_count": null,
      "outputs": []
    },
    {
      "cell_type": "code",
      "source": [],
      "metadata": {
        "id": "qua244v7kX4x"
      },
      "execution_count": null,
      "outputs": []
    },
    {
      "cell_type": "code",
      "source": [],
      "metadata": {
        "id": "oUYQpQqnkX2W"
      },
      "execution_count": null,
      "outputs": []
    },
    {
      "cell_type": "code",
      "source": [],
      "metadata": {
        "id": "loMW_DcLkXz4"
      },
      "execution_count": null,
      "outputs": []
    },
    {
      "cell_type": "code",
      "source": [],
      "metadata": {
        "id": "fRmRzJSokXxq"
      },
      "execution_count": null,
      "outputs": []
    },
    {
      "cell_type": "code",
      "source": [
        "data['readmitted'].value_counts().plot(kind='bar')"
      ],
      "metadata": {
        "colab": {
          "base_uri": "https://localhost:8080/",
          "height": 462
        },
        "id": "G-TkDid4Ylqe",
        "outputId": "22e091b6-fa48-4947-8784-10dc8195bd92"
      },
      "execution_count": 235,
      "outputs": [
        {
          "output_type": "execute_result",
          "data": {
            "text/plain": [
              "<Axes: xlabel='readmitted'>"
            ]
          },
          "metadata": {},
          "execution_count": 235
        },
        {
          "output_type": "display_data",
          "data": {
            "text/plain": [
              "<Figure size 640x480 with 1 Axes>"
            ],
            "image/png": "[encoded data removed]"
          },
          "metadata": {}
        }
      ]
    },
    {
      "cell_type": "code",
      "source": [
        "data.isnull().sum()"
      ],
      "metadata": {
        "colab": {
          "base_uri": "https://localhost:8080/"
        },
        "id": "SNn6tTZKYUGN",
        "outputId": "2c2b79c8-4ddd-4840-fdfe-80c1d8ed74e3"
      },
      "execution_count": 236,
      "outputs": [
        {
          "output_type": "execute_result",
          "data": {
            "text/plain": [
              "gender                      0\n",
              "age                         0\n",
              "admission_type_id           0\n",
              "discharge_disposition_id    0\n",
              "admission_source_id         0\n",
              "time_in_hospital            0\n",
              "num_lab_procedures          0\n",
              "num_medications             0\n",
              "number_outpatient           0\n",
              "number_emergency            0\n",
              "number_inpatient            0\n",
              "diag_1                      0\n",
              "diag_2                      0\n",
              "diag_3                      0\n",
              "number_diagnoses            0\n",
              "metformin                   0\n",
              "repaglinide                 0\n",
              "glipizide                   0\n",
              "insulin                     0\n",
              "change                      0\n",
              "diabetesMed                 0\n",
              "readmitted                  0\n",
              "age_derived                 0\n",
              "count_Steady                0\n",
              "count_Down                  0\n",
              "count_Up                    0\n",
              "dtype: int64"
            ]
          },
          "metadata": {},
          "execution_count": 236
        }
      ]
    },
    {
      "cell_type": "code",
      "source": [
        "data['num_medications'].fillna(data['num_medications'].mean(),inplace=True)"
      ],
      "metadata": {
        "id": "9u9g6SWUYUCr"
      },
      "execution_count": 237,
      "outputs": []
    },
    {
      "cell_type": "code",
      "source": [
        "data['number_outpatient'].fillna(data['number_outpatient'].mean(),inplace=True)"
      ],
      "metadata": {
        "id": "5aJJIBu8YT_8"
      },
      "execution_count": 238,
      "outputs": []
    },
    {
      "cell_type": "code",
      "source": [
        "data['number_emergency'].fillna(data['number_emergency'].mean(),inplace=True)"
      ],
      "metadata": {
        "id": "zGy093uAYT9W"
      },
      "execution_count": 239,
      "outputs": []
    },
    {
      "cell_type": "code",
      "source": [
        "data['number_diagnoses'].fillna(data['number_diagnoses'].mean(),inplace=True)"
      ],
      "metadata": {
        "id": "5w076iUqYT6N"
      },
      "execution_count": 240,
      "outputs": []
    },
    {
      "cell_type": "code",
      "source": [
        "data['age_derived'].fillna(data['age_derived'].mean(),inplace=True)"
      ],
      "metadata": {
        "id": "ks3FbTHfYT3B"
      },
      "execution_count": 241,
      "outputs": []
    },
    {
      "cell_type": "code",
      "source": [
        "data['count_Steady'].fillna(data['count_Steady'].mean(),inplace=True)"
      ],
      "metadata": {
        "id": "xG-3RWqIZOCP"
      },
      "execution_count": 242,
      "outputs": []
    },
    {
      "cell_type": "code",
      "source": [
        "data['count_Down'].fillna(data['count_Down'].mean(),inplace=True)"
      ],
      "metadata": {
        "id": "8aCFzEJ7Zgah"
      },
      "execution_count": 243,
      "outputs": []
    },
    {
      "cell_type": "code",
      "source": [
        "data['count_Up'].fillna(data['count_Up'].mean(),inplace=True)"
      ],
      "metadata": {
        "id": "AAMHk22eZevr"
      },
      "execution_count": 244,
      "outputs": []
    },
    {
      "cell_type": "code",
      "source": [
        "data['number_inpatient'].fillna(data['number_inpatient'].mean(),inplace=True)"
      ],
      "metadata": {
        "id": "323g1KWhaAmo"
      },
      "execution_count": 245,
      "outputs": []
    },
    {
      "cell_type": "code",
      "source": [
        "data['readmitted'].value_counts()"
      ],
      "metadata": {
        "colab": {
          "base_uri": "https://localhost:8080/"
        },
        "id": "8eeiqpU8aVun",
        "outputId": "3eed0bd7-813d-4f23-d98f-d954678fe25c"
      },
      "execution_count": 246,
      "outputs": [
        {
          "output_type": "execute_result",
          "data": {
            "text/plain": [
              "readmitted\n",
              "1    45749\n",
              "0     5928\n",
              "2        1\n",
              "Name: count, dtype: int64"
            ]
          },
          "metadata": {},
          "execution_count": 246
        }
      ]
    },
    {
      "cell_type": "code",
      "source": [
        "data['diag_1'].value_counts()"
      ],
      "metadata": {
        "colab": {
          "base_uri": "https://localhost:8080/"
        },
        "id": "ojRkhB7mieVr",
        "outputId": "ac81be1e-6608-4216-d0ef-b362d04bd014"
      },
      "execution_count": 247,
      "outputs": [
        {
          "output_type": "execute_result",
          "data": {
            "text/plain": [
              "diag_1\n",
              "0    16557\n",
              "7    13521\n",
              "4    10361\n",
              "2     4671\n",
              "5     2473\n",
              "3     2227\n",
              "6     1759\n",
              "1       97\n",
              "8       12\n",
              "Name: count, dtype: int64"
            ]
          },
          "metadata": {},
          "execution_count": 247
        }
      ]
    },
    {
      "cell_type": "code",
      "source": [
        "data.isnull().sum()"
      ],
      "metadata": {
        "colab": {
          "base_uri": "https://localhost:8080/"
        },
        "id": "zxhI3Z8SZ4rY",
        "outputId": "a5908baf-c6f4-4dd8-b41d-ffb4cccaf742"
      },
      "execution_count": 248,
      "outputs": [
        {
          "output_type": "execute_result",
          "data": {
            "text/plain": [
              "gender                      0\n",
              "age                         0\n",
              "admission_type_id           0\n",
              "discharge_disposition_id    0\n",
              "admission_source_id         0\n",
              "time_in_hospital            0\n",
              "num_lab_procedures          0\n",
              "num_medications             0\n",
              "number_outpatient           0\n",
              "number_emergency            0\n",
              "number_inpatient            0\n",
              "diag_1                      0\n",
              "diag_2                      0\n",
              "diag_3                      0\n",
              "number_diagnoses            0\n",
              "metformin                   0\n",
              "repaglinide                 0\n",
              "glipizide                   0\n",
              "insulin                     0\n",
              "change                      0\n",
              "diabetesMed                 0\n",
              "readmitted                  0\n",
              "age_derived                 0\n",
              "count_Steady                0\n",
              "count_Down                  0\n",
              "count_Up                    0\n",
              "dtype: int64"
            ]
          },
          "metadata": {},
          "execution_count": 248
        }
      ]
    },
    {
      "cell_type": "code",
      "source": [
        "x=data.drop(columns=['readmitted'])\n",
        "y=data['readmitted']"
      ],
      "metadata": {
        "id": "tPsPYIF2VPuO"
      },
      "execution_count": 249,
      "outputs": []
    },
    {
      "cell_type": "code",
      "source": [
        "x"
      ],
      "metadata": {
        "colab": {
          "base_uri": "https://localhost:8080/",
          "height": 443
        },
        "id": "0zOXfEPWVPr3",
        "outputId": "57642ba8-a7ce-48be-82d9-92e9d6bce7be"
      },
      "execution_count": 250,
      "outputs": [
        {
          "output_type": "execute_result",
          "data": {
            "text/plain": [
              "       gender  age  admission_type_id  discharge_disposition_id  \\\n",
              "0           0    0                  2                         4   \n",
              "1           0    0                  1                         0   \n",
              "2           0    0                  1                         0   \n",
              "3           1    1                  1                         0   \n",
              "4           1    2                  1                         0   \n",
              "...       ...  ...                ...                       ...   \n",
              "51673       0    5                  1                         3   \n",
              "51674       0    5                  1                         0   \n",
              "51675       1    5                  1                         3   \n",
              "51676       0    3                  0                         0   \n",
              "51677       1    4                  0                         0   \n",
              "\n",
              "       admission_source_id  time_in_hospital  num_lab_procedures  \\\n",
              "0                        2         -1.632460           -0.108475   \n",
              "1                        0         -0.271144            0.808522   \n",
              "2                        0         -0.825587           -1.629615   \n",
              "3                        0         -0.825587            0.044197   \n",
              "4                        0         -1.632460            0.400694   \n",
              "...                    ...               ...                 ...   \n",
              "51673                    2         -1.632460           -0.769105   \n",
              "51674                    0         -1.632460            0.910539   \n",
              "51675                    0          0.766108           -1.124029   \n",
              "51676                    2         -1.632460           -0.667583   \n",
              "51677                    2         -0.825587           -0.000000   \n",
              "\n",
              "       num_medications  number_outpatient  number_emergency  ...  metformin  \\\n",
              "0            -3.304858          -0.443669         -0.354883  ...          1   \n",
              "1             0.408817          -0.443669         -0.354883  ...          1   \n",
              "2            -0.237590           2.278833         -0.354883  ...          1   \n",
              "3             0.167145          -0.443669         -0.354883  ...          1   \n",
              "4            -1.082723          -0.443669         -0.354883  ...          1   \n",
              "...                ...                ...               ...  ...        ...   \n",
              "51673        -1.520012           2.278833         -0.354883  ...          1   \n",
              "51674         0.632617          -0.443669         -0.354883  ...          1   \n",
              "51675         0.841397          -0.443669         -0.354883  ...          2   \n",
              "51676        -0.544050          -0.443669         -0.354883  ...          2   \n",
              "51677        -0.101294          -0.137800         -0.110353  ...          4   \n",
              "\n",
              "       repaglinide  glipizide  insulin  change  diabetesMed  age_derived  \\\n",
              "0                1          1        1       1            0    -2.390913   \n",
              "1                1          1        3       0            1    -2.390913   \n",
              "2                1          2        1       1            1    -2.390913   \n",
              "3                1          1        3       0            1    -1.716517   \n",
              "4                1          2        2       0            1    -1.267255   \n",
              "...            ...        ...      ...     ...          ...          ...   \n",
              "51673            1          1        2       1            1     0.452563   \n",
              "51674            1          1        2       1            1     0.452563   \n",
              "51675            1          1        2       0            1     0.452563   \n",
              "51676            1          1        1       0            1    -0.753001   \n",
              "51677            4          4        4       2            2    -0.057011   \n",
              "\n",
              "       count_Steady  count_Down  count_Up  \n",
              "0         -0.964053   -0.386999 -0.382050  \n",
              "1         -0.964053   -0.386999  2.617432  \n",
              "2          0.835716   -0.386999 -0.382050  \n",
              "3         -0.964053   -0.386999  2.617432  \n",
              "4          1.525004   -0.386999 -0.382050  \n",
              "...             ...         ...       ...  \n",
              "51673      0.835716   -0.386999 -0.382050  \n",
              "51674      0.835716   -0.386999 -0.382050  \n",
              "51675      1.525004   -0.386999 -0.382050  \n",
              "51676      0.835716   -0.386999 -0.382050  \n",
              "51677      0.004490   -0.079938 -0.098565  \n",
              "\n",
              "[51678 rows x 25 columns]"
            ],
            "text/html": [
              "\n",
              "  <div id=\"df-efd9fcaa-666b-480e-b608-88313a7e2757\" class=\"colab-df-container\">\n",
              "    <div>\n",
              "<style scoped>\n",
              "    .dataframe tbody tr th:only-of-type {\n",
              "        vertical-align: middle;\n",
              "    }\n",
              "\n",
              "    .dataframe tbody tr th {\n",
              "        vertical-align: top;\n",
              "    }\n",
              "\n",
              "    .dataframe thead th {\n",
              "        text-align: right;\n",
              "    }\n",
              "</style>\n",
              "<table border=\"1\" class=\"dataframe\">\n",
              "  <thead>\n",
              "    <tr style=\"text-align: right;\">\n",
              "      <th></th>\n",
              "      <th>gender</th>\n",
              "      <th>age</th>\n",
              "      <th>admission_type_id</th>\n",
              "      <th>discharge_disposition_id</th>\n",
              "      <th>admission_source_id</th>\n",
              "      <th>time_in_hospital</th>\n",
              "      <th>num_lab_procedures</th>\n",
              "      <th>num_medications</th>\n",
              "      <th>number_outpatient</th>\n",
              "      <th>number_emergency</th>\n",
              "      <th>...</th>\n",
              "      <th>metformin</th>\n",
              "      <th>repaglinide</th>\n",
              "      <th>glipizide</th>\n",
              "      <th>insulin</th>\n",
              "      <th>change</th>\n",
              "      <th>diabetesMed</th>\n",
              "      <th>age_derived</th>\n",
              "      <th>count_Steady</th>\n",
              "      <th>count_Down</th>\n",
              "      <th>count_Up</th>\n",
              "    </tr>\n",
              "  </thead>\n",
              "  <tbody>\n",
              "    <tr>\n",
              "      <th>0</th>\n",
              "      <td>0</td>\n",
              "      <td>0</td>\n",
              "      <td>2</td>\n",
              "      <td>4</td>\n",
              "      <td>2</td>\n",
              "      <td>-1.632460</td>\n",
              "      <td>-0.108475</td>\n",
              "      <td>-3.304858</td>\n",
              "      <td>-0.443669</td>\n",
              "      <td>-0.354883</td>\n",
              "      <td>...</td>\n",
              "      <td>1</td>\n",
              "      <td>1</td>\n",
              "      <td>1</td>\n",
              "      <td>1</td>\n",
              "      <td>1</td>\n",
              "      <td>0</td>\n",
              "      <td>-2.390913</td>\n",
              "      <td>-0.964053</td>\n",
              "      <td>-0.386999</td>\n",
              "      <td>-0.382050</td>\n",
              "    </tr>\n",
              "    <tr>\n",
              "      <th>1</th>\n",
              "      <td>0</td>\n",
              "      <td>0</td>\n",
              "      <td>1</td>\n",
              "      <td>0</td>\n",
              "      <td>0</td>\n",
              "      <td>-0.271144</td>\n",
              "      <td>0.808522</td>\n",
              "      <td>0.408817</td>\n",
              "      <td>-0.443669</td>\n",
              "      <td>-0.354883</td>\n",
              "      <td>...</td>\n",
              "      <td>1</td>\n",
              "      <td>1</td>\n",
              "      <td>1</td>\n",
              "      <td>3</td>\n",
              "      <td>0</td>\n",
              "      <td>1</td>\n",
              "      <td>-2.390913</td>\n",
              "      <td>-0.964053</td>\n",
              "      <td>-0.386999</td>\n",
              "      <td>2.617432</td>\n",
              "    </tr>\n",
              "    <tr>\n",
              "      <th>2</th>\n",
              "      <td>0</td>\n",
              "      <td>0</td>\n",
              "      <td>1</td>\n",
              "      <td>0</td>\n",
              "      <td>0</td>\n",
              "      <td>-0.825587</td>\n",
              "      <td>-1.629615</td>\n",
              "      <td>-0.237590</td>\n",
              "      <td>2.278833</td>\n",
              "      <td>-0.354883</td>\n",
              "      <td>...</td>\n",
              "      <td>1</td>\n",
              "      <td>1</td>\n",
              "      <td>2</td>\n",
              "      <td>1</td>\n",
              "      <td>1</td>\n",
              "      <td>1</td>\n",
              "      <td>-2.390913</td>\n",
              "      <td>0.835716</td>\n",
              "      <td>-0.386999</td>\n",
              "      <td>-0.382050</td>\n",
              "    </tr>\n",
              "    <tr>\n",
              "      <th>3</th>\n",
              "      <td>1</td>\n",
              "      <td>1</td>\n",
              "      <td>1</td>\n",
              "      <td>0</td>\n",
              "      <td>0</td>\n",
              "      <td>-0.825587</td>\n",
              "      <td>0.044197</td>\n",
              "      <td>0.167145</td>\n",
              "      <td>-0.443669</td>\n",
              "      <td>-0.354883</td>\n",
              "      <td>...</td>\n",
              "      <td>1</td>\n",
              "      <td>1</td>\n",
              "      <td>1</td>\n",
              "      <td>3</td>\n",
              "      <td>0</td>\n",
              "      <td>1</td>\n",
              "      <td>-1.716517</td>\n",
              "      <td>-0.964053</td>\n",
              "      <td>-0.386999</td>\n",
              "      <td>2.617432</td>\n",
              "    </tr>\n",
              "    <tr>\n",
              "      <th>4</th>\n",
              "      <td>1</td>\n",
              "      <td>2</td>\n",
              "      <td>1</td>\n",
              "      <td>0</td>\n",
              "      <td>0</td>\n",
              "      <td>-1.632460</td>\n",
              "      <td>0.400694</td>\n",
              "      <td>-1.082723</td>\n",
              "      <td>-0.443669</td>\n",
              "      <td>-0.354883</td>\n",
              "      <td>...</td>\n",
              "      <td>1</td>\n",
              "      <td>1</td>\n",
              "      <td>2</td>\n",
              "      <td>2</td>\n",
              "      <td>0</td>\n",
              "      <td>1</td>\n",
              "      <td>-1.267255</td>\n",
              "      <td>1.525004</td>\n",
              "      <td>-0.386999</td>\n",
              "      <td>-0.382050</td>\n",
              "    </tr>\n",
              "    <tr>\n",
              "      <th>...</th>\n",
              "      <td>...</td>\n",
              "      <td>...</td>\n",
              "      <td>...</td>\n",
              "      <td>...</td>\n",
              "      <td>...</td>\n",
              "      <td>...</td>\n",
              "      <td>...</td>\n",
              "      <td>...</td>\n",
              "      <td>...</td>\n",
              "      <td>...</td>\n",
              "      <td>...</td>\n",
              "      <td>...</td>\n",
              "      <td>...</td>\n",
              "      <td>...</td>\n",
              "      <td>...</td>\n",
              "      <td>...</td>\n",
              "      <td>...</td>\n",
              "      <td>...</td>\n",
              "      <td>...</td>\n",
              "      <td>...</td>\n",
              "      <td>...</td>\n",
              "    </tr>\n",
              "    <tr>\n",
              "      <th>51673</th>\n",
              "      <td>0</td>\n",
              "      <td>5</td>\n",
              "      <td>1</td>\n",
              "      <td>3</td>\n",
              "      <td>2</td>\n",
              "      <td>-1.632460</td>\n",
              "      <td>-0.769105</td>\n",
              "      <td>-1.520012</td>\n",
              "      <td>2.278833</td>\n",
              "      <td>-0.354883</td>\n",
              "      <td>...</td>\n",
              "      <td>1</td>\n",
              "      <td>1</td>\n",
              "      <td>1</td>\n",
              "      <td>2</td>\n",
              "      <td>1</td>\n",
              "      <td>1</td>\n",
              "      <td>0.452563</td>\n",
              "      <td>0.835716</td>\n",
              "      <td>-0.386999</td>\n",
              "      <td>-0.382050</td>\n",
              "    </tr>\n",
              "    <tr>\n",
              "      <th>51674</th>\n",
              "      <td>0</td>\n",
              "      <td>5</td>\n",
              "      <td>1</td>\n",
              "      <td>0</td>\n",
              "      <td>0</td>\n",
              "      <td>-1.632460</td>\n",
              "      <td>0.910539</td>\n",
              "      <td>0.632617</td>\n",
              "      <td>-0.443669</td>\n",
              "      <td>-0.354883</td>\n",
              "      <td>...</td>\n",
              "      <td>1</td>\n",
              "      <td>1</td>\n",
              "      <td>1</td>\n",
              "      <td>2</td>\n",
              "      <td>1</td>\n",
              "      <td>1</td>\n",
              "      <td>0.452563</td>\n",
              "      <td>0.835716</td>\n",
              "      <td>-0.386999</td>\n",
              "      <td>-0.382050</td>\n",
              "    </tr>\n",
              "    <tr>\n",
              "      <th>51675</th>\n",
              "      <td>1</td>\n",
              "      <td>5</td>\n",
              "      <td>1</td>\n",
              "      <td>3</td>\n",
              "      <td>0</td>\n",
              "      <td>0.766108</td>\n",
              "      <td>-1.124029</td>\n",
              "      <td>0.841397</td>\n",
              "      <td>-0.443669</td>\n",
              "      <td>-0.354883</td>\n",
              "      <td>...</td>\n",
              "      <td>2</td>\n",
              "      <td>1</td>\n",
              "      <td>1</td>\n",
              "      <td>2</td>\n",
              "      <td>0</td>\n",
              "      <td>1</td>\n",
              "      <td>0.452563</td>\n",
              "      <td>1.525004</td>\n",
              "      <td>-0.386999</td>\n",
              "      <td>-0.382050</td>\n",
              "    </tr>\n",
              "    <tr>\n",
              "      <th>51676</th>\n",
              "      <td>0</td>\n",
              "      <td>3</td>\n",
              "      <td>0</td>\n",
              "      <td>0</td>\n",
              "      <td>2</td>\n",
              "      <td>-1.632460</td>\n",
              "      <td>-0.667583</td>\n",
              "      <td>-0.544050</td>\n",
              "      <td>-0.443669</td>\n",
              "      <td>-0.354883</td>\n",
              "      <td>...</td>\n",
              "      <td>2</td>\n",
              "      <td>1</td>\n",
              "      <td>1</td>\n",
              "      <td>1</td>\n",
              "      <td>0</td>\n",
              "      <td>1</td>\n",
              "      <td>-0.753001</td>\n",
              "      <td>0.835716</td>\n",
              "      <td>-0.386999</td>\n",
              "      <td>-0.382050</td>\n",
              "    </tr>\n",
              "    <tr>\n",
              "      <th>51677</th>\n",
              "      <td>1</td>\n",
              "      <td>4</td>\n",
              "      <td>0</td>\n",
              "      <td>0</td>\n",
              "      <td>2</td>\n",
              "      <td>-0.825587</td>\n",
              "      <td>-0.000000</td>\n",
              "      <td>-0.101294</td>\n",
              "      <td>-0.137800</td>\n",
              "      <td>-0.110353</td>\n",
              "      <td>...</td>\n",
              "      <td>4</td>\n",
              "      <td>4</td>\n",
              "      <td>4</td>\n",
              "      <td>4</td>\n",
              "      <td>2</td>\n",
              "      <td>2</td>\n",
              "      <td>-0.057011</td>\n",
              "      <td>0.004490</td>\n",
              "      <td>-0.079938</td>\n",
              "      <td>-0.098565</td>\n",
              "    </tr>\n",
              "  </tbody>\n",
              "</table>\n",
              "<p>51678 rows × 25 columns</p>\n",
              "</div>\n",
              "    <div class=\"colab-df-buttons\">\n",
              "\n",
              "  <div class=\"colab-df-container\">\n",
              "    <button class=\"colab-df-convert\" onclick=\"convertToInteractive('df-efd9fcaa-666b-480e-b608-88313a7e2757')\"\n",
              "            title=\"Convert this dataframe to an interactive table.\"\n",
              "            style=\"display:none;\">\n",
              "\n",
              "  <svg xmlns=\"http://www.w3.org/2000/svg\" height=\"24px\" viewBox=\"0 -960 960 960\">\n",
              "    <path d=\"M120-120v-720h720v720H120Zm60-500h600v-160H180v160Zm220 220h160v-160H400v160Zm0 220h160v-160H400v160ZM180-400h160v-160H180v160Zm440 0h160v-160H620v160ZM180-180h160v-160H180v160Zm440 0h160v-160H620v160Z\"/>\n",
              "  </svg>\n",
              "    </button>\n",
              "\n",
              "  <style>\n",
              "    .colab-df-container {\n",
              "      display:flex;\n",
              "      gap: 12px;\n",
              "    }\n",
              "\n",
              "    .colab-df-convert {\n",
              "      background-color: #E8F0FE;\n",
              "      border: none;\n",
              "      border-radius: 50%;\n",
              "      cursor: pointer;\n",
              "      display: none;\n",
              "      fill: #1967D2;\n",
              "      height: 32px;\n",
              "      padding: 0 0 0 0;\n",
              "      width: 32px;\n",
              "    }\n",
              "\n",
              "    .colab-df-convert:hover {\n",
              "      background-color: #E2EBFA;\n",
              "      box-shadow: 0px 1px 2px rgba(60, 64, 67, 0.3), 0px 1px 3px 1px rgba(60, 64, 67, 0.15);\n",
              "      fill: #174EA6;\n",
              "    }\n",
              "\n",
              "    .colab-df-buttons div {\n",
              "      margin-bottom: 4px;\n",
              "    }\n",
              "\n",
              "    [theme=dark] .colab-df-convert {\n",
              "      background-color: #3B4455;\n",
              "      fill: #D2E3FC;\n",
              "    }\n",
              "\n",
              "    [theme=dark] .colab-df-convert:hover {\n",
              "      background-color: #434B5C;\n",
              "      box-shadow: 0px 1px 3px 1px rgba(0, 0, 0, 0.15);\n",
              "      filter: drop-shadow(0px 1px 2px rgba(0, 0, 0, 0.3));\n",
              "      fill: #FFFFFF;\n",
              "    }\n",
              "  </style>\n",
              "\n",
              "    <script>\n",
              "      const buttonEl =\n",
              "        document.querySelector('#df-efd9fcaa-666b-480e-b608-88313a7e2757 button.colab-df-convert');\n",
              "      buttonEl.style.display =\n",
              "        google.colab.kernel.accessAllowed ? 'block' : 'none';\n",
              "\n",
              "      async function convertToInteractive(key) {\n",
              "        const element = document.querySelector('#df-efd9fcaa-666b-480e-b608-88313a7e2757');\n",
              "        const dataTable =\n",
              "          await google.colab.kernel.invokeFunction('convertToInteractive',\n",
              "                                                    [key], {});\n",
              "        if (!dataTable) return;\n",
              "\n",
              "        const docLinkHtml = 'Like what you see? Visit the ' +\n",
              "          '<a target=\"_blank\" href=https://colab.research.google.com/notebooks/data_table.ipynb>data table notebook</a>'\n",
              "          + ' to learn more about interactive tables.';\n",
              "        element.innerHTML = '';\n",
              "        dataTable['output_type'] = 'display_data';\n",
              "        await google.colab.output.renderOutput(dataTable, element);\n",
              "        const docLink = document.createElement('div');\n",
              "        docLink.innerHTML = docLinkHtml;\n",
              "        element.appendChild(docLink);\n",
              "      }\n",
              "    </script>\n",
              "  </div>\n",
              "\n",
              "\n",
              "<div id=\"df-37022e13-e135-4ae5-b377-16b0c5fd6988\">\n",
              "  <button class=\"colab-df-quickchart\" onclick=\"quickchart('df-37022e13-e135-4ae5-b377-16b0c5fd6988')\"\n",
              "            title=\"Suggest charts\"\n",
              "            style=\"display:none;\">\n",
              "\n",
              "<svg xmlns=\"http://www.w3.org/2000/svg\" height=\"24px\"viewBox=\"0 0 24 24\"\n",
              "     width=\"24px\">\n",
              "    <g>\n",
              "        <path d=\"M19 3H5c-1.1 0-2 .9-2 2v14c0 1.1.9 2 2 2h14c1.1 0 2-.9 2-2V5c0-1.1-.9-2-2-2zM9 17H7v-7h2v7zm4 0h-2V7h2v10zm4 0h-2v-4h2v4z\"/>\n",
              "    </g>\n",
              "</svg>\n",
              "  </button>\n",
              "\n",
              "<style>\n",
              "  .colab-df-quickchart {\n",
              "      --bg-color: #E8F0FE;\n",
              "      --fill-color: #1967D2;\n",
              "      --hover-bg-color: #E2EBFA;\n",
              "      --hover-fill-color: #174EA6;\n",
              "      --disabled-fill-color: #AAA;\n",
              "      --disabled-bg-color: #DDD;\n",
              "  }\n",
              "\n",
              "  [theme=dark] .colab-df-quickchart {\n",
              "      --bg-color: #3B4455;\n",
              "      --fill-color: #D2E3FC;\n",
              "      --hover-bg-color: #434B5C;\n",
              "      --hover-fill-color: #FFFFFF;\n",
              "      --disabled-bg-color: #3B4455;\n",
              "      --disabled-fill-color: #666;\n",
              "  }\n",
              "\n",
              "  .colab-df-quickchart {\n",
              "    background-color: var(--bg-color);\n",
              "    border: none;\n",
              "    border-radius: 50%;\n",
              "    cursor: pointer;\n",
              "    display: none;\n",
              "    fill: var(--fill-color);\n",
              "    height: 32px;\n",
              "    padding: 0;\n",
              "    width: 32px;\n",
              "  }\n",
              "\n",
              "  .colab-df-quickchart:hover {\n",
              "    background-color: var(--hover-bg-color);\n",
              "    box-shadow: 0 1px 2px rgba(60, 64, 67, 0.3), 0 1px 3px 1px rgba(60, 64, 67, 0.15);\n",
              "    fill: var(--button-hover-fill-color);\n",
              "  }\n",
              "\n",
              "  .colab-df-quickchart-complete:disabled,\n",
              "  .colab-df-quickchart-complete:disabled:hover {\n",
              "    background-color: var(--disabled-bg-color);\n",
              "    fill: var(--disabled-fill-color);\n",
              "    box-shadow: none;\n",
              "  }\n",
              "\n",
              "  .colab-df-spinner {\n",
              "    border: 2px solid var(--fill-color);\n",
              "    border-color: transparent;\n",
              "    border-bottom-color: var(--fill-color);\n",
              "    animation:\n",
              "      spin 1s steps(1) infinite;\n",
              "  }\n",
              "\n",
              "  @keyframes spin {\n",
              "    0% {\n",
              "      border-color: transparent;\n",
              "      border-bottom-color: var(--fill-color);\n",
              "      border-left-color: var(--fill-color);\n",
              "    }\n",
              "    20% {\n",
              "      border-color: transparent;\n",
              "      border-left-color: var(--fill-color);\n",
              "      border-top-color: var(--fill-color);\n",
              "    }\n",
              "    30% {\n",
              "      border-color: transparent;\n",
              "      border-left-color: var(--fill-color);\n",
              "      border-top-color: var(--fill-color);\n",
              "      border-right-color: var(--fill-color);\n",
              "    }\n",
              "    40% {\n",
              "      border-color: transparent;\n",
              "      border-right-color: var(--fill-color);\n",
              "      border-top-color: var(--fill-color);\n",
              "    }\n",
              "    60% {\n",
              "      border-color: transparent;\n",
              "      border-right-color: var(--fill-color);\n",
              "    }\n",
              "    80% {\n",
              "      border-color: transparent;\n",
              "      border-right-color: var(--fill-color);\n",
              "      border-bottom-color: var(--fill-color);\n",
              "    }\n",
              "    90% {\n",
              "      border-color: transparent;\n",
              "      border-bottom-color: var(--fill-color);\n",
              "    }\n",
              "  }\n",
              "</style>\n",
              "\n",
              "  <script>\n",
              "    async function quickchart(key) {\n",
              "      const quickchartButtonEl =\n",
              "        document.querySelector('#' + key + ' button');\n",
              "      quickchartButtonEl.disabled = true;  // To prevent multiple clicks.\n",
              "      quickchartButtonEl.classList.add('colab-df-spinner');\n",
              "      try {\n",
              "        const charts = await google.colab.kernel.invokeFunction(\n",
              "            'suggestCharts', [key], {});\n",
              "      } catch (error) {\n",
              "        console.error('Error during call to suggestCharts:', error);\n",
              "      }\n",
              "      quickchartButtonEl.classList.remove('colab-df-spinner');\n",
              "      quickchartButtonEl.classList.add('colab-df-quickchart-complete');\n",
              "    }\n",
              "    (() => {\n",
              "      let quickchartButtonEl =\n",
              "        document.querySelector('#df-37022e13-e135-4ae5-b377-16b0c5fd6988 button');\n",
              "      quickchartButtonEl.style.display =\n",
              "        google.colab.kernel.accessAllowed ? 'block' : 'none';\n",
              "    })();\n",
              "  </script>\n",
              "</div>\n",
              "\n",
              "  <div id=\"id_b3484f09-6d1f-45df-90b1-9bfb70b02000\">\n",
              "    <style>\n",
              "      .colab-df-generate {\n",
              "        background-color: #E8F0FE;\n",
              "        border: none;\n",
              "        border-radius: 50%;\n",
              "        cursor: pointer;\n",
              "        display: none;\n",
              "        fill: #1967D2;\n",
              "        height: 32px;\n",
              "        padding: 0 0 0 0;\n",
              "        width: 32px;\n",
              "      }\n",
              "\n",
              "      .colab-df-generate:hover {\n",
              "        background-color: #E2EBFA;\n",
              "        box-shadow: 0px 1px 2px rgba(60, 64, 67, 0.3), 0px 1px 3px 1px rgba(60, 64, 67, 0.15);\n",
              "        fill: #174EA6;\n",
              "      }\n",
              "\n",
              "      [theme=dark] .colab-df-generate {\n",
              "        background-color: #3B4455;\n",
              "        fill: #D2E3FC;\n",
              "      }\n",
              "\n",
              "      [theme=dark] .colab-df-generate:hover {\n",
              "        background-color: #434B5C;\n",
              "        box-shadow: 0px 1px 3px 1px rgba(0, 0, 0, 0.15);\n",
              "        filter: drop-shadow(0px 1px 2px rgba(0, 0, 0, 0.3));\n",
              "        fill: #FFFFFF;\n",
              "      }\n",
              "    </style>\n",
              "    <button class=\"colab-df-generate\" onclick=\"generateWithVariable('x')\"\n",
              "            title=\"Generate code using this dataframe.\"\n",
              "            style=\"display:none;\">\n",
              "\n",
              "  <svg xmlns=\"http://www.w3.org/2000/svg\" height=\"24px\"viewBox=\"0 0 24 24\"\n",
              "       width=\"24px\">\n",
              "    <path d=\"M7,19H8.4L18.45,9,17,7.55,7,17.6ZM5,21V16.75L18.45,3.32a2,2,0,0,1,2.83,0l1.4,1.43a1.91,1.91,0,0,1,.58,1.4,1.91,1.91,0,0,1-.58,1.4L9.25,21ZM18.45,9,17,7.55Zm-12,3A5.31,5.31,0,0,0,4.9,8.1,5.31,5.31,0,0,0,1,6.5,5.31,5.31,0,0,0,4.9,4.9,5.31,5.31,0,0,0,6.5,1,5.31,5.31,0,0,0,8.1,4.9,5.31,5.31,0,0,0,12,6.5,5.46,5.46,0,0,0,6.5,12Z\"/>\n",
              "  </svg>\n",
              "    </button>\n",
              "    <script>\n",
              "      (() => {\n",
              "      const buttonEl =\n",
              "        document.querySelector('#id_b3484f09-6d1f-45df-90b1-9bfb70b02000 button.colab-df-generate');\n",
              "      buttonEl.style.display =\n",
              "        google.colab.kernel.accessAllowed ? 'block' : 'none';\n",
              "\n",
              "      buttonEl.onclick = () => {\n",
              "        google.colab.notebook.generateWithVariable('x');\n",
              "      }\n",
              "      })();\n",
              "    </script>\n",
              "  </div>\n",
              "\n",
              "    </div>\n",
              "  </div>\n"
            ],
            "application/vnd.google.colaboratory.intrinsic+json": {
              "type": "dataframe",
              "variable_name": "x"
            }
          },
          "metadata": {},
          "execution_count": 250
        }
      ]
    },
    {
      "cell_type": "code",
      "source": [
        "x.shape"
      ],
      "metadata": {
        "colab": {
          "base_uri": "https://localhost:8080/"
        },
        "id": "aqfdqtYnhJ1b",
        "outputId": "6f088051-fa9e-4c97-8e4a-54ba4b1e772d"
      },
      "execution_count": 251,
      "outputs": [
        {
          "output_type": "execute_result",
          "data": {
            "text/plain": [
              "(51678, 25)"
            ]
          },
          "metadata": {},
          "execution_count": 251
        }
      ]
    },
    {
      "cell_type": "code",
      "source": [
        "y"
      ],
      "metadata": {
        "colab": {
          "base_uri": "https://localhost:8080/"
        },
        "id": "MsELnGZAVPpc",
        "outputId": "4df49b35-d048-4e80-cef1-810bb2d7f5d9"
      },
      "execution_count": 252,
      "outputs": [
        {
          "output_type": "execute_result",
          "data": {
            "text/plain": [
              "0        1\n",
              "1        1\n",
              "2        1\n",
              "3        1\n",
              "4        1\n",
              "        ..\n",
              "51673    1\n",
              "51674    1\n",
              "51675    1\n",
              "51676    1\n",
              "51677    2\n",
              "Name: readmitted, Length: 51678, dtype: int64"
            ]
          },
          "metadata": {},
          "execution_count": 252
        }
      ]
    },
    {
      "cell_type": "code",
      "source": [
        "from sklearn.model_selection import train_test_split\n",
        "x_train,x_test,y_train,y_test = train_test_split(x,y, random_state=20,test_size=0.25)"
      ],
      "metadata": {
        "id": "K4BkeY7SVPnA"
      },
      "execution_count": 253,
      "outputs": []
    },
    {
      "cell_type": "code",
      "source": [
        "x_train.shape,x_test.shape,y_train.shape,y_test.shape"
      ],
      "metadata": {
        "colab": {
          "base_uri": "https://localhost:8080/"
        },
        "id": "yTSB6tKIX0RD",
        "outputId": "de98f46f-1678-4ade-d13a-05b58b4a437b"
      },
      "execution_count": 254,
      "outputs": [
        {
          "output_type": "execute_result",
          "data": {
            "text/plain": [
              "((38758, 25), (12920, 25), (38758,), (12920,))"
            ]
          },
          "metadata": {},
          "execution_count": 254
        }
      ]
    },
    {
      "cell_type": "code",
      "source": [
        "from sklearn.linear_model import LogisticRegression\n",
        "from sklearn.tree import DecisionTreeClassifier\n",
        "from sklearn.neighbors import KNeighborsClassifier\n",
        "from sklearn.ensemble import RandomForestClassifier, AdaBoostClassifier, GradientBoostingClassifier\n",
        "from xgboost.sklearn import XGBClassifier\n",
        "from sklearn import metrics\n",
        "from sklearn.metrics import accuracy_score,roc_curve,confusion_matrix,classification_report,auc"
      ],
      "metadata": {
        "id": "Hs8h2kMlX0Nm"
      },
      "execution_count": 255,
      "outputs": []
    },
    {
      "cell_type": "code",
      "source": [
        "model_dict={}\n",
        "model_dict['LogisticRegression']=LogisticRegression(solver='liblinear',random_state=20)\n",
        "model_dict['DecisionTreeClassifier']=DecisionTreeClassifier(random_state=20)\n",
        "model_dict['KNeighborsClassifier']=KNeighborsClassifier()\n",
        "model_dict['RandomForestClassifier']=RandomForestClassifier(random_state=20)\n",
        "model_dict['AdaBoostClassifier']=AdaBoostClassifier(random_state=20)\n",
        "model_dict['GradientBoostingClassifier']=GradientBoostingClassifier(random_state=20)"
      ],
      "metadata": {
        "id": "XEmmaxypX0LR"
      },
      "execution_count": 256,
      "outputs": []
    },
    {
      "cell_type": "code",
      "source": [
        "def model_test(x_train,x_test,y_train,y_test,model,model_name):\n",
        "  model.fit(x_train,y_train)\n",
        "  y_pred=model.predict(x_test)\n",
        "  accuracy=accuracy_score(y_test,y_pred)\n",
        "  print('=================================================={}=============================================='.format(model_name))\n",
        "  print('score is :{}'.format(accuracy))\n",
        "  print()"
      ],
      "metadata": {
        "id": "M4zNyQ8NX0JE"
      },
      "execution_count": 257,
      "outputs": []
    },
    {
      "cell_type": "code",
      "source": [
        "for model_name,model in model_dict.items():\n",
        "  model_test(x_train,x_test,y_train,y_test,model,model_name)"
      ],
      "metadata": {
        "colab": {
          "base_uri": "https://localhost:8080/"
        },
        "id": "Q6x3lZodX0Gp",
        "outputId": "9afb8f82-8ef5-4c84-9381-bbdc722aa0de"
      },
      "execution_count": 258,
      "outputs": [
        {
          "output_type": "stream",
          "name": "stdout",
          "text": [
            "==================================================LogisticRegression==============================================\n",
            "score is :0.8834365325077399\n",
            "\n",
            "==================================================DecisionTreeClassifier==============================================\n",
            "score is :0.791640866873065\n",
            "\n",
            "==================================================KNeighborsClassifier==============================================\n",
            "score is :0.8702786377708979\n",
            "\n",
            "==================================================RandomForestClassifier==============================================\n",
            "score is :0.8841331269349845\n",
            "\n",
            "==================================================AdaBoostClassifier==============================================\n",
            "score is :0.8832043343653251\n",
            "\n",
            "==================================================GradientBoostingClassifier==============================================\n",
            "score is :0.8839783281733746\n",
            "\n"
          ]
        }
      ]
    },
    {
      "cell_type": "code",
      "source": [
        "import pickle"
      ],
      "metadata": {
        "id": "WyaU87HIeW8R"
      },
      "execution_count": 259,
      "outputs": []
    },
    {
      "cell_type": "code",
      "source": [
        "pickle.dump(model,open('model.pkl','wb'))"
      ],
      "metadata": {
        "id": "xznELXh4eW5P"
      },
      "execution_count": 260,
      "outputs": []
    },
    {
      "cell_type": "code",
      "source": [],
      "metadata": {
        "id": "KEdLvCAAeW3A"
      },
      "execution_count": null,
      "outputs": []
    },
    {
      "cell_type": "code",
      "source": [],
      "metadata": {
        "id": "s88W483xeW0p"
      },
      "execution_count": null,
      "outputs": []
    },
    {
      "cell_type": "code",
      "source": [],
      "metadata": {
        "id": "GyQJK6cveWyS"
      },
      "execution_count": null,
      "outputs": []
    }
  ],
  "metadata": {
    "colab": {
      "name": "Welcome To Colab",
      "provenance": [],
      "include_colab_link": true
    },
    "kernelspec": {
      "display_name": "Python 3",
      "name": "python3"
    }
  },
  "nbformat": 4,
  "nbformat_minor": 0
}